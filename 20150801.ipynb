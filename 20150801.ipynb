{
 "cells": [
  {
   "cell_type": "markdown",
   "metadata": {},
   "source": [
    "## xrayをやきうのデータで\n",
    "* 参考: http://sinhrks.hatenablog.com/entry/2015/07/26/232141\n",
    "        やきうのデータに置き換えて写経"
   ]
  },
  {
   "cell_type": "markdown",
   "metadata": {},
   "source": [
    "### xrayとは\n",
    "* ラベルつきの多次元データを扱える\n",
    "(numpyのndarrayに名前をつけた感じ)\n",
    "* 作者はpandasチームのshoyer"
   ]
  },
  {
   "cell_type": "code",
   "execution_count": 1,
   "metadata": {
    "collapsed": true
   },
   "outputs": [],
   "source": [
    "import numpy as np\n",
    "import xray\n",
    "import seaborn as sns"
   ]
  },
  {
   "cell_type": "code",
   "execution_count": 2,
   "metadata": {
    "collapsed": false
   },
   "outputs": [],
   "source": [
    "team = [u'オリックス', u'ソフトバンク', u'ロッテ', u'日本ハム', u'楽天', u'西武']"
   ]
  },
  {
   "cell_type": "code",
   "execution_count": 3,
   "metadata": {
    "collapsed": false
   },
   "outputs": [],
   "source": [
    "result = [u'rk', u'w', u'l', u'draw', u'w-l%', u'gb']\n",
    "# 順位, 勝, 負, 引分, 勝率, ゲーム差"
   ]
  },
  {
   "cell_type": "code",
   "execution_count": 4,
   "metadata": {
    "collapsed": false
   },
   "outputs": [],
   "source": [
    "data = {2009: array([[  6.   ,  56.   ,  86.   ,   2.   ,   0.394,  26.   ],\n",
    "        [  3.   ,  74.   ,  65.   ,   5.   ,   0.532,   6.5  ],\n",
    "        [  5.   ,  62.   ,  77.   ,   5.   ,   0.446,  18.5  ],\n",
    "        [  1.   ,  82.   ,  60.   ,   2.   ,   0.577,   0.   ],\n",
    "        [  2.   ,  77.   ,  66.   ,   1.   ,   0.538,   5.5  ],\n",
    "        [  4.   ,  70.   ,  70.   ,   4.   ,   0.5  ,  11.   ]]),\n",
    " 2010: array([[  5.   ,  69.   ,  71.   ,   4.   ,   0.493,   7.5  ],\n",
    "        [  1.   ,  76.   ,  63.   ,   5.   ,   0.547,   0.   ],\n",
    "        [  3.   ,  75.   ,  67.   ,   2.   ,   0.528,   2.5  ],\n",
    "        [  4.   ,  74.   ,  67.   ,   3.   ,   0.525,   3.   ],\n",
    "        [  6.   ,  62.   ,  79.   ,   3.   ,   0.44 ,  15.   ],\n",
    "        [  2.   ,  78.   ,  65.   ,   1.   ,   0.545,   0.   ]]),\n",
    " 2011: array([[  4.   ,  69.   ,  68.   ,   7.   ,   0.504,  20.5  ],\n",
    "        [  1.   ,  88.   ,  46.   ,  10.   ,   0.657,   0.   ],\n",
    "        [  6.   ,  54.   ,  79.   ,  11.   ,   0.406,  33.5  ],\n",
    "        [  2.   ,  72.   ,  65.   ,   7.   ,   0.526,  17.5  ],\n",
    "        [  5.   ,  66.   ,  71.   ,   7.   ,   0.482,  23.5  ],\n",
    "        [  3.   ,  68.   ,  67.   ,   9.   ,   0.504,  20.5  ]]),\n",
    " 2012: array([[  6.   ,  57.   ,  77.   ,  10.   ,   0.425,  17.5  ],\n",
    "        [  3.   ,  67.   ,  65.   ,  12.   ,   0.508,   6.5  ],\n",
    "        [  5.   ,  62.   ,  67.   ,  15.   ,   0.481,  10.   ],\n",
    "        [  1.   ,  74.   ,  59.   ,  11.   ,   0.556,   0.   ],\n",
    "        [  4.   ,  67.   ,  67.   ,  10.   ,   0.5  ,   7.5  ],\n",
    "        [  2.   ,  72.   ,  63.   ,   9.   ,   0.533,   3.   ]]),\n",
    " 2013: array([[  5.   ,  66.   ,  73.   ,   5.   ,   0.475,  15.   ],\n",
    "        [  4.   ,  73.   ,  69.   ,   2.   ,   0.514,   9.5  ],\n",
    "        [  3.   ,  74.   ,  68.   ,   2.   ,   0.521,   8.5  ],\n",
    "        [  6.   ,  64.   ,  78.   ,   2.   ,   0.451,  18.5  ],\n",
    "        [  1.   ,  82.   ,  59.   ,   3.   ,   0.582,   0.   ],\n",
    "        [  2.   ,  74.   ,  66.   ,   4.   ,   0.529,   7.5  ]]),\n",
    " 2014: array([[  2.   ,  80.   ,  62.   ,   2.   ,   0.563,   0.   ],\n",
    "        [  1.   ,  78.   ,  60.   ,   6.   ,   0.565,   0.   ],\n",
    "        [  4.   ,  66.   ,  76.   ,   2.   ,   0.465,  14.   ],\n",
    "        [  3.   ,  73.   ,  68.   ,   3.   ,   0.518,   6.5  ],\n",
    "        [  6.   ,  64.   ,  80.   ,   0.   ,   0.444,  17.   ],\n",
    "        [  5.   ,  63.   ,  77.   ,   4.   ,   0.45 ,  16.   ]])}"
   ]
  },
  {
   "cell_type": "code",
   "execution_count": 5,
   "metadata": {
    "collapsed": false
   },
   "outputs": [],
   "source": [
    "year = sorted(data)"
   ]
  },
  {
   "cell_type": "markdown",
   "metadata": {},
   "source": [
    "### xray.DataArrayを作成"
   ]
  },
  {
   "cell_type": "code",
   "execution_count": 6,
   "metadata": {
    "collapsed": false,
    "scrolled": true
   },
   "outputs": [
    {
     "data": {
      "text/plain": [
       "<xray.DataArray (team: 6, result: 6)>\n",
       "array([[  6.   ,  56.   ,  86.   ,   2.   ,   0.394,  26.   ],\n",
       "       [  3.   ,  74.   ,  65.   ,   5.   ,   0.532,   6.5  ],\n",
       "       [  5.   ,  62.   ,  77.   ,   5.   ,   0.446,  18.5  ],\n",
       "       [  1.   ,  82.   ,  60.   ,   2.   ,   0.577,   0.   ],\n",
       "       [  2.   ,  77.   ,  66.   ,   1.   ,   0.538,   5.5  ],\n",
       "       [  4.   ,  70.   ,  70.   ,   4.   ,   0.5  ,  11.   ]])\n",
       "Coordinates:\n",
       "  * team     (team) <U6 u'\\u30aa\\u30ea\\u30c3\\u30af\\u30b9' ...\n",
       "  * result   (result) <U4 u'rk' u'w' u'l' u'draw' u'w-l%' u'gb'"
      ]
     },
     "execution_count": 6,
     "metadata": {},
     "output_type": "execute_result"
    }
   ],
   "source": [
    "da2 = xray.DataArray(data[2009], coords=[team, result], dims=['team', 'result'])\n",
    "da2"
   ]
  },
  {
   "cell_type": "code",
   "execution_count": 7,
   "metadata": {
    "collapsed": false,
    "scrolled": true
   },
   "outputs": [
    {
     "data": {
      "text/html": [
       "<div>\n",
       "<table border=\"1\" class=\"dataframe\">\n",
       "  <thead>\n",
       "    <tr style=\"text-align: right;\">\n",
       "      <th></th>\n",
       "      <th></th>\n",
       "      <th>None</th>\n",
       "    </tr>\n",
       "    <tr>\n",
       "      <th>team</th>\n",
       "      <th>result</th>\n",
       "      <th></th>\n",
       "    </tr>\n",
       "  </thead>\n",
       "  <tbody>\n",
       "    <tr>\n",
       "      <th rowspan=\"6\" valign=\"top\">オリックス</th>\n",
       "      <th>rk</th>\n",
       "      <td>6.000</td>\n",
       "    </tr>\n",
       "    <tr>\n",
       "      <th>w</th>\n",
       "      <td>56.000</td>\n",
       "    </tr>\n",
       "    <tr>\n",
       "      <th>l</th>\n",
       "      <td>86.000</td>\n",
       "    </tr>\n",
       "    <tr>\n",
       "      <th>draw</th>\n",
       "      <td>2.000</td>\n",
       "    </tr>\n",
       "    <tr>\n",
       "      <th>w-l%</th>\n",
       "      <td>0.394</td>\n",
       "    </tr>\n",
       "    <tr>\n",
       "      <th>gb</th>\n",
       "      <td>26.000</td>\n",
       "    </tr>\n",
       "    <tr>\n",
       "      <th rowspan=\"6\" valign=\"top\">ソフトバンク</th>\n",
       "      <th>rk</th>\n",
       "      <td>3.000</td>\n",
       "    </tr>\n",
       "    <tr>\n",
       "      <th>w</th>\n",
       "      <td>74.000</td>\n",
       "    </tr>\n",
       "    <tr>\n",
       "      <th>l</th>\n",
       "      <td>65.000</td>\n",
       "    </tr>\n",
       "    <tr>\n",
       "      <th>draw</th>\n",
       "      <td>5.000</td>\n",
       "    </tr>\n",
       "    <tr>\n",
       "      <th>w-l%</th>\n",
       "      <td>0.532</td>\n",
       "    </tr>\n",
       "    <tr>\n",
       "      <th>gb</th>\n",
       "      <td>6.500</td>\n",
       "    </tr>\n",
       "    <tr>\n",
       "      <th rowspan=\"6\" valign=\"top\">ロッテ</th>\n",
       "      <th>rk</th>\n",
       "      <td>5.000</td>\n",
       "    </tr>\n",
       "    <tr>\n",
       "      <th>w</th>\n",
       "      <td>62.000</td>\n",
       "    </tr>\n",
       "    <tr>\n",
       "      <th>l</th>\n",
       "      <td>77.000</td>\n",
       "    </tr>\n",
       "    <tr>\n",
       "      <th>draw</th>\n",
       "      <td>5.000</td>\n",
       "    </tr>\n",
       "    <tr>\n",
       "      <th>w-l%</th>\n",
       "      <td>0.446</td>\n",
       "    </tr>\n",
       "    <tr>\n",
       "      <th>gb</th>\n",
       "      <td>18.500</td>\n",
       "    </tr>\n",
       "    <tr>\n",
       "      <th rowspan=\"6\" valign=\"top\">日本ハム</th>\n",
       "      <th>rk</th>\n",
       "      <td>1.000</td>\n",
       "    </tr>\n",
       "    <tr>\n",
       "      <th>w</th>\n",
       "      <td>82.000</td>\n",
       "    </tr>\n",
       "    <tr>\n",
       "      <th>l</th>\n",
       "      <td>60.000</td>\n",
       "    </tr>\n",
       "    <tr>\n",
       "      <th>draw</th>\n",
       "      <td>2.000</td>\n",
       "    </tr>\n",
       "    <tr>\n",
       "      <th>w-l%</th>\n",
       "      <td>0.577</td>\n",
       "    </tr>\n",
       "    <tr>\n",
       "      <th>gb</th>\n",
       "      <td>0.000</td>\n",
       "    </tr>\n",
       "    <tr>\n",
       "      <th rowspan=\"6\" valign=\"top\">楽天</th>\n",
       "      <th>rk</th>\n",
       "      <td>2.000</td>\n",
       "    </tr>\n",
       "    <tr>\n",
       "      <th>w</th>\n",
       "      <td>77.000</td>\n",
       "    </tr>\n",
       "    <tr>\n",
       "      <th>l</th>\n",
       "      <td>66.000</td>\n",
       "    </tr>\n",
       "    <tr>\n",
       "      <th>draw</th>\n",
       "      <td>1.000</td>\n",
       "    </tr>\n",
       "    <tr>\n",
       "      <th>w-l%</th>\n",
       "      <td>0.538</td>\n",
       "    </tr>\n",
       "    <tr>\n",
       "      <th>gb</th>\n",
       "      <td>5.500</td>\n",
       "    </tr>\n",
       "    <tr>\n",
       "      <th rowspan=\"6\" valign=\"top\">西武</th>\n",
       "      <th>rk</th>\n",
       "      <td>4.000</td>\n",
       "    </tr>\n",
       "    <tr>\n",
       "      <th>w</th>\n",
       "      <td>70.000</td>\n",
       "    </tr>\n",
       "    <tr>\n",
       "      <th>l</th>\n",
       "      <td>70.000</td>\n",
       "    </tr>\n",
       "    <tr>\n",
       "      <th>draw</th>\n",
       "      <td>4.000</td>\n",
       "    </tr>\n",
       "    <tr>\n",
       "      <th>w-l%</th>\n",
       "      <td>0.500</td>\n",
       "    </tr>\n",
       "    <tr>\n",
       "      <th>gb</th>\n",
       "      <td>11.000</td>\n",
       "    </tr>\n",
       "  </tbody>\n",
       "</table>\n",
       "</div>"
      ],
      "text/plain": [
       "                  NaN\n",
       "team   result        \n",
       "オリックス  rk       6.000\n",
       "       w       56.000\n",
       "       l       86.000\n",
       "       draw     2.000\n",
       "       w-l%     0.394\n",
       "       gb      26.000\n",
       "ソフトバンク rk       3.000\n",
       "       w       74.000\n",
       "       l       65.000\n",
       "       draw     5.000\n",
       "       w-l%     0.532\n",
       "       gb       6.500\n",
       "ロッテ    rk       5.000\n",
       "       w       62.000\n",
       "       l       77.000\n",
       "       draw     5.000\n",
       "       w-l%     0.446\n",
       "       gb      18.500\n",
       "日本ハム   rk       1.000\n",
       "       w       82.000\n",
       "       l       60.000\n",
       "       draw     2.000\n",
       "       w-l%     0.577\n",
       "       gb       0.000\n",
       "楽天     rk       2.000\n",
       "       w       77.000\n",
       "       l       66.000\n",
       "       draw     1.000\n",
       "       w-l%     0.538\n",
       "       gb       5.500\n",
       "西武     rk       4.000\n",
       "       w       70.000\n",
       "       l       70.000\n",
       "       draw     4.000\n",
       "       w-l%     0.500\n",
       "       gb      11.000"
      ]
     },
     "execution_count": 7,
     "metadata": {},
     "output_type": "execute_result"
    }
   ],
   "source": [
    "da2.to_dataframe()"
   ]
  },
  {
   "cell_type": "code",
   "execution_count": 8,
   "metadata": {
    "collapsed": false
   },
   "outputs": [
    {
     "data": {
      "text/plain": [
       "('team', 'result')"
      ]
     },
     "execution_count": 8,
     "metadata": {},
     "output_type": "execute_result"
    }
   ],
   "source": [
    "# 各次元の名前\n",
    "da2.dims"
   ]
  },
  {
   "cell_type": "code",
   "execution_count": 9,
   "metadata": {
    "collapsed": false
   },
   "outputs": [
    {
     "data": {
      "text/plain": [
       "(6, 6)"
      ]
     },
     "execution_count": 9,
     "metadata": {},
     "output_type": "execute_result"
    }
   ],
   "source": [
    "# 次元数\n",
    "da2.shape"
   ]
  },
  {
   "cell_type": "code",
   "execution_count": 10,
   "metadata": {
    "collapsed": false
   },
   "outputs": [
    {
     "data": {
      "text/plain": [
       "Coordinates:\n",
       "  * team     (team) <U6 u'\\u30aa\\u30ea\\u30c3\\u30af\\u30b9' ...\n",
       "  * result   (result) <U4 u'rk' u'w' u'l' u'draw' u'w-l%' u'gb'"
      ]
     },
     "execution_count": 10,
     "metadata": {},
     "output_type": "execute_result"
    }
   ],
   "source": [
    "# 各次元の詳細\n",
    "da2.coords"
   ]
  },
  {
   "cell_type": "code",
   "execution_count": 11,
   "metadata": {
    "collapsed": false,
    "scrolled": true
   },
   "outputs": [
    {
     "data": {
      "text/plain": [
       "<xray.DataArray 'result' (result: 6)>\n",
       "array([u'rk', u'w', u'l', u'draw', u'w-l%', u'gb'], \n",
       "      dtype='<U4')\n",
       "Coordinates:\n",
       "  * result   (result) <U4 u'rk' u'w' u'l' u'draw' u'w-l%' u'gb'"
      ]
     },
     "execution_count": 11,
     "metadata": {},
     "output_type": "execute_result"
    }
   ],
   "source": [
    "# 次元のラベル\n",
    "da2.coords['result']"
   ]
  },
  {
   "cell_type": "markdown",
   "metadata": {},
   "source": [
    "### データの選択 (pandasと大体同じ)"
   ]
  },
  {
   "cell_type": "code",
   "execution_count": 12,
   "metadata": {
    "collapsed": false
   },
   "outputs": [
    {
     "data": {
      "text/plain": [
       "<xray.DataArray (result: 6)>\n",
       "array([  3.   ,  74.   ,  65.   ,   5.   ,   0.532,   6.5  ])\n",
       "Coordinates:\n",
       "    team     <U6 u'\\u30bd\\u30d5\\u30c8\\u30d0\\u30f3\\u30af'\n",
       "  * result   (result) <U4 u'rk' u'w' u'l' u'draw' u'w-l%' u'gb'"
      ]
     },
     "execution_count": 12,
     "metadata": {},
     "output_type": "execute_result"
    }
   ],
   "source": [
    "# ソフトバンクのデータを選択\n",
    "da2.loc[u'ソフトバンク']"
   ]
  },
  {
   "cell_type": "code",
   "execution_count": 13,
   "metadata": {
    "collapsed": false
   },
   "outputs": [
    {
     "data": {
      "text/plain": [
       "<xray.DataArray (team: 6)>\n",
       "array([ 0.394,  0.532,  0.446,  0.577,  0.538,  0.5  ])\n",
       "Coordinates:\n",
       "  * team     (team) <U6 u'\\u30aa\\u30ea\\u30c3\\u30af\\u30b9' ...\n",
       "    result   <U4 u'w-l%'"
      ]
     },
     "execution_count": 13,
     "metadata": {},
     "output_type": "execute_result"
    }
   ],
   "source": [
    "# 全チームの勝率を選択\n",
    "da2.loc[:, 'w-l%']"
   ]
  },
  {
   "cell_type": "code",
   "execution_count": 14,
   "metadata": {
    "collapsed": false
   },
   "outputs": [
    {
     "data": {
      "text/plain": [
       "<xray.DataArray (result: 6)>\n",
       "array([  1.   ,  82.   ,  60.   ,   2.   ,   0.577,   0.   ])\n",
       "Coordinates:\n",
       "    team     <U6 u'\\u65e5\\u672c\\u30cf\\u30e0'\n",
       "  * result   (result) <U4 u'rk' u'w' u'l' u'draw' u'w-l%' u'gb'"
      ]
     },
     "execution_count": 14,
     "metadata": {},
     "output_type": "execute_result"
    }
   ],
   "source": [
    "# チームを番号で指定\n",
    "da2[3]"
   ]
  },
  {
   "cell_type": "code",
   "execution_count": 15,
   "metadata": {
    "collapsed": false
   },
   "outputs": [
    {
     "data": {
      "text/plain": [
       "<xray.DataArray (team: 6)>\n",
       "array([ 0.394,  0.532,  0.446,  0.577,  0.538,  0.5  ])\n",
       "Coordinates:\n",
       "  * team     (team) <U6 u'\\u30aa\\u30ea\\u30c3\\u30af\\u30b9' ...\n",
       "    result   <U4 u'w-l%'"
      ]
     },
     "execution_count": 15,
     "metadata": {},
     "output_type": "execute_result"
    }
   ],
   "source": [
    "# 勝率を番号で指定\n",
    "da2[:, 4]"
   ]
  },
  {
   "cell_type": "code",
   "execution_count": 16,
   "metadata": {
    "collapsed": false
   },
   "outputs": [
    {
     "data": {
      "text/plain": [
       "<xray.DataArray ()>\n",
       "array(6.0)\n",
       "Coordinates:\n",
       "    team     <U6 u'\\u30aa\\u30ea\\u30c3\\u30af\\u30b9'\n",
       "    result   <U4 u'rk'"
      ]
     },
     "execution_count": 16,
     "metadata": {},
     "output_type": "execute_result"
    }
   ],
   "source": [
    "# 辞書を使って指定することが可能 ←New!\n",
    "da2.loc[{'team':u'オリックス', 'result':'rk'}]"
   ]
  },
  {
   "cell_type": "markdown",
   "metadata": {},
   "source": [
    "### .selを使って選択 (高次元になったときにもシンプル)"
   ]
  },
  {
   "cell_type": "code",
   "execution_count": 17,
   "metadata": {
    "collapsed": false
   },
   "outputs": [
    {
     "data": {
      "text/plain": [
       "<xray.DataArray (result: 6)>\n",
       "array([  2.   ,  77.   ,  66.   ,   1.   ,   0.538,   5.5  ])\n",
       "Coordinates:\n",
       "    team     <U6 u'\\u697d\\u5929'\n",
       "  * result   (result) <U4 u'rk' u'w' u'l' u'draw' u'w-l%' u'gb'"
      ]
     },
     "execution_count": 17,
     "metadata": {},
     "output_type": "execute_result"
    }
   ],
   "source": [
    "da2.sel(team=u'楽天')"
   ]
  },
  {
   "cell_type": "code",
   "execution_count": 18,
   "metadata": {
    "collapsed": false
   },
   "outputs": [
    {
     "data": {
      "text/plain": [
       "<xray.DataArray (result: 2)>\n",
       "array([ 0.538,  5.5  ])\n",
       "Coordinates:\n",
       "    team     <U6 u'\\u697d\\u5929'\n",
       "  * result   (result) <U4 u'w-l%' u'gb'"
      ]
     },
     "execution_count": 18,
     "metadata": {},
     "output_type": "execute_result"
    }
   ],
   "source": [
    "da2.sel(team=u'楽天', result=['w-l%', 'gb'])"
   ]
  },
  {
   "cell_type": "code",
   "execution_count": 19,
   "metadata": {
    "collapsed": false
   },
   "outputs": [
    {
     "data": {
      "text/plain": [
       "<xray.DataArray ()>\n",
       "array(26.0)\n",
       "Coordinates:\n",
       "    team     <U6 u'\\u30aa\\u30ea\\u30c3\\u30af\\u30b9'\n",
       "    result   <U4 u'gb'"
      ]
     },
     "execution_count": 19,
     "metadata": {},
     "output_type": "execute_result"
    }
   ],
   "source": [
    "# 番号で指定\n",
    "da2.isel(team=0, result=-1)"
   ]
  },
  {
   "cell_type": "markdown",
   "metadata": {},
   "source": [
    "### 次元の追加"
   ]
  },
  {
   "cell_type": "code",
   "execution_count": 20,
   "metadata": {
    "collapsed": false
   },
   "outputs": [],
   "source": [
    "data3 = np.dstack([data[x] for x in year])"
   ]
  },
  {
   "cell_type": "code",
   "execution_count": 21,
   "metadata": {
    "collapsed": false,
    "scrolled": true
   },
   "outputs": [
    {
     "data": {
      "text/plain": [
       "<xray.DataArray (team: 6, result: 6, year: 6)>\n",
       "array([[[  6.   ,   5.   ,   4.   ,   6.   ,   5.   ,   2.   ],\n",
       "        [ 56.   ,  69.   ,  69.   ,  57.   ,  66.   ,  80.   ],\n",
       "        [ 86.   ,  71.   ,  68.   ,  77.   ,  73.   ,  62.   ],\n",
       "        [  2.   ,   4.   ,   7.   ,  10.   ,   5.   ,   2.   ],\n",
       "        [  0.394,   0.493,   0.504,   0.425,   0.475,   0.563],\n",
       "        [ 26.   ,   7.5  ,  20.5  ,  17.5  ,  15.   ,   0.   ]],\n",
       "\n",
       "       [[  3.   ,   1.   ,   1.   ,   3.   ,   4.   ,   1.   ],\n",
       "        [ 74.   ,  76.   ,  88.   ,  67.   ,  73.   ,  78.   ],\n",
       "        [ 65.   ,  63.   ,  46.   ,  65.   ,  69.   ,  60.   ],\n",
       "        [  5.   ,   5.   ,  10.   ,  12.   ,   2.   ,   6.   ],\n",
       "        [  0.532,   0.547,   0.657,   0.508,   0.514,   0.565],\n",
       "        [  6.5  ,   0.   ,   0.   ,   6.5  ,   9.5  ,   0.   ]],\n",
       "\n",
       "       [[  5.   ,   3.   ,   6.   ,   5.   ,   3.   ,   4.   ],\n",
       "        [ 62.   ,  75.   ,  54.   ,  62.   ,  74.   ,  66.   ],\n",
       "        [ 77.   ,  67.   ,  79.   ,  67.   ,  68.   ,  76.   ],\n",
       "        [  5.   ,   2.   ,  11.   ,  15.   ,   2.   ,   2.   ],\n",
       "        [  0.446,   0.528,   0.406,   0.481,   0.521,   0.465],\n",
       "        [ 18.5  ,   2.5  ,  33.5  ,  10.   ,   8.5  ,  14.   ]],\n",
       "\n",
       "       [[  1.   ,   4.   ,   2.   ,   1.   ,   6.   ,   3.   ],\n",
       "        [ 82.   ,  74.   ,  72.   ,  74.   ,  64.   ,  73.   ],\n",
       "        [ 60.   ,  67.   ,  65.   ,  59.   ,  78.   ,  68.   ],\n",
       "        [  2.   ,   3.   ,   7.   ,  11.   ,   2.   ,   3.   ],\n",
       "        [  0.577,   0.525,   0.526,   0.556,   0.451,   0.518],\n",
       "        [  0.   ,   3.   ,  17.5  ,   0.   ,  18.5  ,   6.5  ]],\n",
       "\n",
       "       [[  2.   ,   6.   ,   5.   ,   4.   ,   1.   ,   6.   ],\n",
       "        [ 77.   ,  62.   ,  66.   ,  67.   ,  82.   ,  64.   ],\n",
       "        [ 66.   ,  79.   ,  71.   ,  67.   ,  59.   ,  80.   ],\n",
       "        [  1.   ,   3.   ,   7.   ,  10.   ,   3.   ,   0.   ],\n",
       "        [  0.538,   0.44 ,   0.482,   0.5  ,   0.582,   0.444],\n",
       "        [  5.5  ,  15.   ,  23.5  ,   7.5  ,   0.   ,  17.   ]],\n",
       "\n",
       "       [[  4.   ,   2.   ,   3.   ,   2.   ,   2.   ,   5.   ],\n",
       "        [ 70.   ,  78.   ,  68.   ,  72.   ,  74.   ,  63.   ],\n",
       "        [ 70.   ,  65.   ,  67.   ,  63.   ,  66.   ,  77.   ],\n",
       "        [  4.   ,   1.   ,   9.   ,   9.   ,   4.   ,   4.   ],\n",
       "        [  0.5  ,   0.545,   0.504,   0.533,   0.529,   0.45 ],\n",
       "        [ 11.   ,   0.   ,  20.5  ,   3.   ,   7.5  ,  16.   ]]])\n",
       "Coordinates:\n",
       "  * team     (team) <U6 u'\\u30aa\\u30ea\\u30c3\\u30af\\u30b9' ...\n",
       "  * result   (result) <U4 u'rk' u'w' u'l' u'draw' u'w-l%' u'gb'\n",
       "  * year     (year) int64 2009 2010 2011 2012 2013 2014"
      ]
     },
     "execution_count": 21,
     "metadata": {},
     "output_type": "execute_result"
    }
   ],
   "source": [
    "da3 = xray.DataArray(data3, coords=[team, result, year], dims=['team', 'result', 'year'])\n",
    "da3"
   ]
  },
  {
   "cell_type": "code",
   "execution_count": 22,
   "metadata": {
    "collapsed": false
   },
   "outputs": [
    {
     "data": {
      "text/plain": [
       "(6, 6, 6)"
      ]
     },
     "execution_count": 22,
     "metadata": {},
     "output_type": "execute_result"
    }
   ],
   "source": [
    "da3.shape"
   ]
  },
  {
   "cell_type": "code",
   "execution_count": 23,
   "metadata": {
    "collapsed": false,
    "scrolled": true
   },
   "outputs": [
    {
     "data": {
      "text/html": [
       "<div>\n",
       "<table border=\"1\" class=\"dataframe\">\n",
       "  <thead>\n",
       "    <tr style=\"text-align: right;\">\n",
       "      <th></th>\n",
       "      <th></th>\n",
       "      <th></th>\n",
       "      <th>None</th>\n",
       "    </tr>\n",
       "    <tr>\n",
       "      <th>team</th>\n",
       "      <th>result</th>\n",
       "      <th>year</th>\n",
       "      <th></th>\n",
       "    </tr>\n",
       "  </thead>\n",
       "  <tbody>\n",
       "    <tr>\n",
       "      <th rowspan=\"30\" valign=\"top\">オリックス</th>\n",
       "      <th rowspan=\"6\" valign=\"top\">rk</th>\n",
       "      <th>2009</th>\n",
       "      <td>6.000</td>\n",
       "    </tr>\n",
       "    <tr>\n",
       "      <th>2010</th>\n",
       "      <td>5.000</td>\n",
       "    </tr>\n",
       "    <tr>\n",
       "      <th>2011</th>\n",
       "      <td>4.000</td>\n",
       "    </tr>\n",
       "    <tr>\n",
       "      <th>2012</th>\n",
       "      <td>6.000</td>\n",
       "    </tr>\n",
       "    <tr>\n",
       "      <th>2013</th>\n",
       "      <td>5.000</td>\n",
       "    </tr>\n",
       "    <tr>\n",
       "      <th>2014</th>\n",
       "      <td>2.000</td>\n",
       "    </tr>\n",
       "    <tr>\n",
       "      <th rowspan=\"6\" valign=\"top\">w</th>\n",
       "      <th>2009</th>\n",
       "      <td>56.000</td>\n",
       "    </tr>\n",
       "    <tr>\n",
       "      <th>2010</th>\n",
       "      <td>69.000</td>\n",
       "    </tr>\n",
       "    <tr>\n",
       "      <th>2011</th>\n",
       "      <td>69.000</td>\n",
       "    </tr>\n",
       "    <tr>\n",
       "      <th>2012</th>\n",
       "      <td>57.000</td>\n",
       "    </tr>\n",
       "    <tr>\n",
       "      <th>2013</th>\n",
       "      <td>66.000</td>\n",
       "    </tr>\n",
       "    <tr>\n",
       "      <th>2014</th>\n",
       "      <td>80.000</td>\n",
       "    </tr>\n",
       "    <tr>\n",
       "      <th rowspan=\"6\" valign=\"top\">l</th>\n",
       "      <th>2009</th>\n",
       "      <td>86.000</td>\n",
       "    </tr>\n",
       "    <tr>\n",
       "      <th>2010</th>\n",
       "      <td>71.000</td>\n",
       "    </tr>\n",
       "    <tr>\n",
       "      <th>2011</th>\n",
       "      <td>68.000</td>\n",
       "    </tr>\n",
       "    <tr>\n",
       "      <th>2012</th>\n",
       "      <td>77.000</td>\n",
       "    </tr>\n",
       "    <tr>\n",
       "      <th>2013</th>\n",
       "      <td>73.000</td>\n",
       "    </tr>\n",
       "    <tr>\n",
       "      <th>2014</th>\n",
       "      <td>62.000</td>\n",
       "    </tr>\n",
       "    <tr>\n",
       "      <th rowspan=\"6\" valign=\"top\">draw</th>\n",
       "      <th>2009</th>\n",
       "      <td>2.000</td>\n",
       "    </tr>\n",
       "    <tr>\n",
       "      <th>2010</th>\n",
       "      <td>4.000</td>\n",
       "    </tr>\n",
       "    <tr>\n",
       "      <th>2011</th>\n",
       "      <td>7.000</td>\n",
       "    </tr>\n",
       "    <tr>\n",
       "      <th>2012</th>\n",
       "      <td>10.000</td>\n",
       "    </tr>\n",
       "    <tr>\n",
       "      <th>2013</th>\n",
       "      <td>5.000</td>\n",
       "    </tr>\n",
       "    <tr>\n",
       "      <th>2014</th>\n",
       "      <td>2.000</td>\n",
       "    </tr>\n",
       "    <tr>\n",
       "      <th rowspan=\"6\" valign=\"top\">w-l%</th>\n",
       "      <th>2009</th>\n",
       "      <td>0.394</td>\n",
       "    </tr>\n",
       "    <tr>\n",
       "      <th>2010</th>\n",
       "      <td>0.493</td>\n",
       "    </tr>\n",
       "    <tr>\n",
       "      <th>2011</th>\n",
       "      <td>0.504</td>\n",
       "    </tr>\n",
       "    <tr>\n",
       "      <th>2012</th>\n",
       "      <td>0.425</td>\n",
       "    </tr>\n",
       "    <tr>\n",
       "      <th>2013</th>\n",
       "      <td>0.475</td>\n",
       "    </tr>\n",
       "    <tr>\n",
       "      <th>2014</th>\n",
       "      <td>0.563</td>\n",
       "    </tr>\n",
       "    <tr>\n",
       "      <th>...</th>\n",
       "      <th>...</th>\n",
       "      <th>...</th>\n",
       "      <td>...</td>\n",
       "    </tr>\n",
       "    <tr>\n",
       "      <th rowspan=\"30\" valign=\"top\">西武</th>\n",
       "      <th rowspan=\"6\" valign=\"top\">w</th>\n",
       "      <th>2009</th>\n",
       "      <td>70.000</td>\n",
       "    </tr>\n",
       "    <tr>\n",
       "      <th>2010</th>\n",
       "      <td>78.000</td>\n",
       "    </tr>\n",
       "    <tr>\n",
       "      <th>2011</th>\n",
       "      <td>68.000</td>\n",
       "    </tr>\n",
       "    <tr>\n",
       "      <th>2012</th>\n",
       "      <td>72.000</td>\n",
       "    </tr>\n",
       "    <tr>\n",
       "      <th>2013</th>\n",
       "      <td>74.000</td>\n",
       "    </tr>\n",
       "    <tr>\n",
       "      <th>2014</th>\n",
       "      <td>63.000</td>\n",
       "    </tr>\n",
       "    <tr>\n",
       "      <th rowspan=\"6\" valign=\"top\">l</th>\n",
       "      <th>2009</th>\n",
       "      <td>70.000</td>\n",
       "    </tr>\n",
       "    <tr>\n",
       "      <th>2010</th>\n",
       "      <td>65.000</td>\n",
       "    </tr>\n",
       "    <tr>\n",
       "      <th>2011</th>\n",
       "      <td>67.000</td>\n",
       "    </tr>\n",
       "    <tr>\n",
       "      <th>2012</th>\n",
       "      <td>63.000</td>\n",
       "    </tr>\n",
       "    <tr>\n",
       "      <th>2013</th>\n",
       "      <td>66.000</td>\n",
       "    </tr>\n",
       "    <tr>\n",
       "      <th>2014</th>\n",
       "      <td>77.000</td>\n",
       "    </tr>\n",
       "    <tr>\n",
       "      <th rowspan=\"6\" valign=\"top\">draw</th>\n",
       "      <th>2009</th>\n",
       "      <td>4.000</td>\n",
       "    </tr>\n",
       "    <tr>\n",
       "      <th>2010</th>\n",
       "      <td>1.000</td>\n",
       "    </tr>\n",
       "    <tr>\n",
       "      <th>2011</th>\n",
       "      <td>9.000</td>\n",
       "    </tr>\n",
       "    <tr>\n",
       "      <th>2012</th>\n",
       "      <td>9.000</td>\n",
       "    </tr>\n",
       "    <tr>\n",
       "      <th>2013</th>\n",
       "      <td>4.000</td>\n",
       "    </tr>\n",
       "    <tr>\n",
       "      <th>2014</th>\n",
       "      <td>4.000</td>\n",
       "    </tr>\n",
       "    <tr>\n",
       "      <th rowspan=\"6\" valign=\"top\">w-l%</th>\n",
       "      <th>2009</th>\n",
       "      <td>0.500</td>\n",
       "    </tr>\n",
       "    <tr>\n",
       "      <th>2010</th>\n",
       "      <td>0.545</td>\n",
       "    </tr>\n",
       "    <tr>\n",
       "      <th>2011</th>\n",
       "      <td>0.504</td>\n",
       "    </tr>\n",
       "    <tr>\n",
       "      <th>2012</th>\n",
       "      <td>0.533</td>\n",
       "    </tr>\n",
       "    <tr>\n",
       "      <th>2013</th>\n",
       "      <td>0.529</td>\n",
       "    </tr>\n",
       "    <tr>\n",
       "      <th>2014</th>\n",
       "      <td>0.450</td>\n",
       "    </tr>\n",
       "    <tr>\n",
       "      <th rowspan=\"6\" valign=\"top\">gb</th>\n",
       "      <th>2009</th>\n",
       "      <td>11.000</td>\n",
       "    </tr>\n",
       "    <tr>\n",
       "      <th>2010</th>\n",
       "      <td>0.000</td>\n",
       "    </tr>\n",
       "    <tr>\n",
       "      <th>2011</th>\n",
       "      <td>20.500</td>\n",
       "    </tr>\n",
       "    <tr>\n",
       "      <th>2012</th>\n",
       "      <td>3.000</td>\n",
       "    </tr>\n",
       "    <tr>\n",
       "      <th>2013</th>\n",
       "      <td>7.500</td>\n",
       "    </tr>\n",
       "    <tr>\n",
       "      <th>2014</th>\n",
       "      <td>16.000</td>\n",
       "    </tr>\n",
       "  </tbody>\n",
       "</table>\n",
       "<p>216 rows × 1 columns</p>\n",
       "</div>"
      ],
      "text/plain": [
       "                      NaN\n",
       "team  result year        \n",
       "オリックス rk     2009   6.000\n",
       "             2010   5.000\n",
       "             2011   4.000\n",
       "             2012   6.000\n",
       "             2013   5.000\n",
       "             2014   2.000\n",
       "      w      2009  56.000\n",
       "             2010  69.000\n",
       "             2011  69.000\n",
       "             2012  57.000\n",
       "             2013  66.000\n",
       "             2014  80.000\n",
       "      l      2009  86.000\n",
       "             2010  71.000\n",
       "             2011  68.000\n",
       "             2012  77.000\n",
       "             2013  73.000\n",
       "             2014  62.000\n",
       "      draw   2009   2.000\n",
       "             2010   4.000\n",
       "             2011   7.000\n",
       "             2012  10.000\n",
       "             2013   5.000\n",
       "             2014   2.000\n",
       "      w-l%   2009   0.394\n",
       "             2010   0.493\n",
       "             2011   0.504\n",
       "             2012   0.425\n",
       "             2013   0.475\n",
       "             2014   0.563\n",
       "...                   ...\n",
       "西武    w      2009  70.000\n",
       "             2010  78.000\n",
       "             2011  68.000\n",
       "             2012  72.000\n",
       "             2013  74.000\n",
       "             2014  63.000\n",
       "      l      2009  70.000\n",
       "             2010  65.000\n",
       "             2011  67.000\n",
       "             2012  63.000\n",
       "             2013  66.000\n",
       "             2014  77.000\n",
       "      draw   2009   4.000\n",
       "             2010   1.000\n",
       "             2011   9.000\n",
       "             2012   9.000\n",
       "             2013   4.000\n",
       "             2014   4.000\n",
       "      w-l%   2009   0.500\n",
       "             2010   0.545\n",
       "             2011   0.504\n",
       "             2012   0.533\n",
       "             2013   0.529\n",
       "             2014   0.450\n",
       "      gb     2009  11.000\n",
       "             2010   0.000\n",
       "             2011  20.500\n",
       "             2012   3.000\n",
       "             2013   7.500\n",
       "             2014  16.000\n",
       "\n",
       "[216 rows x 1 columns]"
      ]
     },
     "execution_count": 23,
     "metadata": {},
     "output_type": "execute_result"
    }
   ],
   "source": [
    "da3.to_dataframe()"
   ]
  },
  {
   "cell_type": "markdown",
   "metadata": {},
   "source": [
    "### データの選択"
   ]
  },
  {
   "cell_type": "code",
   "execution_count": 24,
   "metadata": {
    "collapsed": false
   },
   "outputs": [
    {
     "data": {
      "text/plain": [
       "<xray.DataArray (result: 6, year: 6)>\n",
       "array([[  4.   ,   2.   ,   3.   ,   2.   ,   2.   ,   5.   ],\n",
       "       [ 70.   ,  78.   ,  68.   ,  72.   ,  74.   ,  63.   ],\n",
       "       [ 70.   ,  65.   ,  67.   ,  63.   ,  66.   ,  77.   ],\n",
       "       [  4.   ,   1.   ,   9.   ,   9.   ,   4.   ,   4.   ],\n",
       "       [  0.5  ,   0.545,   0.504,   0.533,   0.529,   0.45 ],\n",
       "       [ 11.   ,   0.   ,  20.5  ,   3.   ,   7.5  ,  16.   ]])\n",
       "Coordinates:\n",
       "    team     <U6 u'\\u897f\\u6b66'\n",
       "  * result   (result) <U4 u'rk' u'w' u'l' u'draw' u'w-l%' u'gb'\n",
       "  * year     (year) int64 2009 2010 2011 2012 2013 2014"
      ]
     },
     "execution_count": 24,
     "metadata": {},
     "output_type": "execute_result"
    }
   ],
   "source": [
    "da3.loc[u'西武']"
   ]
  },
  {
   "cell_type": "code",
   "execution_count": 25,
   "metadata": {
    "collapsed": false
   },
   "outputs": [
    {
     "data": {
      "text/plain": [
       "<xray.DataArray (year: 6)>\n",
       "array([ 4.,  2.,  3.,  2.,  2.,  5.])\n",
       "Coordinates:\n",
       "    team     <U6 u'\\u897f\\u6b66'\n",
       "    result   <U4 u'rk'\n",
       "  * year     (year) int64 2009 2010 2011 2012 2013 2014"
      ]
     },
     "execution_count": 25,
     "metadata": {},
     "output_type": "execute_result"
    }
   ],
   "source": [
    "da3.loc[u'西武', 'rk', :]"
   ]
  },
  {
   "cell_type": "code",
   "execution_count": 26,
   "metadata": {
    "collapsed": false
   },
   "outputs": [
    {
     "data": {
      "text/plain": [
       "<xray.DataArray ()>\n",
       "array(3.0)\n",
       "Coordinates:\n",
       "    team     <U6 u'\\u897f\\u6b66'\n",
       "    result   <U4 u'rk'\n",
       "    year     int64 2011"
      ]
     },
     "execution_count": 26,
     "metadata": {},
     "output_type": "execute_result"
    }
   ],
   "source": [
    "da3.loc[u'西武', 'rk', 2011]"
   ]
  },
  {
   "cell_type": "code",
   "execution_count": 27,
   "metadata": {
    "collapsed": false,
    "scrolled": true
   },
   "outputs": [
    {
     "data": {
      "text/plain": [
       "<xray.DataArray ()>\n",
       "array(3.0)\n",
       "Coordinates:\n",
       "    team     <U6 u'\\u65e5\\u672c\\u30cf\\u30e0'\n",
       "    result   <U4 u'gb'\n",
       "    year     int64 2010"
      ]
     },
     "execution_count": 27,
     "metadata": {},
     "output_type": "execute_result"
    }
   ],
   "source": [
    "da3.sel(team=u'日本ハム', result='gb', year=2010)"
   ]
  },
  {
   "cell_type": "markdown",
   "metadata": {},
   "source": [
    "### 可視化"
   ]
  },
  {
   "cell_type": "code",
   "execution_count": 28,
   "metadata": {
    "collapsed": false
   },
   "outputs": [
    {
     "data": {
      "text/plain": [
       "<matplotlib.axes._subplots.AxesSubplot at 0x7f2fd5cf4a90>"
      ]
     },
     "execution_count": 28,
     "metadata": {},
     "output_type": "execute_result"
    },
    {
     "data": {
      "image/png": "[encoded data removed]",
      "text/plain": [
       "<matplotlib.figure.Figure at 0x7f2fd5cf4590>"
      ]
     },
     "metadata": {},
     "output_type": "display_data"
    }
   ],
   "source": [
    "# 直接はできないみたいなのでpandasに変換\n",
    "da3.sel(result='w-l%').to_pandas().T.plot()"
   ]
  },
  {
   "cell_type": "markdown",
   "metadata": {
    "collapsed": false
   },
   "source": [
    "### 計算"
   ]
  },
  {
   "cell_type": "code",
   "execution_count": 29,
   "metadata": {
    "collapsed": false
   },
   "outputs": [
    {
     "data": {
      "text/plain": [
       "<xray.DataArray (team: 6, year: 6)>\n",
       "array([[ 144.,  144.,  144.,  144.,  144.,  144.],\n",
       "       [ 144.,  144.,  144.,  144.,  144.,  144.],\n",
       "       [ 144.,  144.,  144.,  144.,  144.,  144.],\n",
       "       [ 144.,  144.,  144.,  144.,  144.,  144.],\n",
       "       [ 144.,  144.,  144.,  144.,  144.,  144.],\n",
       "       [ 144.,  144.,  144.,  144.,  144.,  144.]])\n",
       "Coordinates:\n",
       "  * team     (team) <U6 u'\\u30aa\\u30ea\\u30c3\\u30af\\u30b9' ...\n",
       "  * year     (year) int64 2009 2010 2011 2012 2013 2014\n",
       "    result   <U4 u'draw'"
      ]
     },
     "execution_count": 29,
     "metadata": {},
     "output_type": "execute_result"
    }
   ],
   "source": [
    "da3.sel(result='w') + da3.sel(result='l') + da3.sel(result='draw')"
   ]
  },
  {
   "cell_type": "code",
   "execution_count": 30,
   "metadata": {
    "collapsed": false
   },
   "outputs": [
    {
     "data": {
      "text/plain": [
       "<xray.DataArray ()>\n",
       "array(4994.0)"
      ]
     },
     "execution_count": 30,
     "metadata": {},
     "output_type": "execute_result"
    }
   ],
   "source": [
    "da3.loc[:, ['w', 'l'], :].sum()"
   ]
  },
  {
   "cell_type": "markdown",
   "metadata": {},
   "source": [
    "### グループ化"
   ]
  },
  {
   "cell_type": "code",
   "execution_count": 31,
   "metadata": {
    "collapsed": false
   },
   "outputs": [
    {
     "data": {
      "text/plain": [
       "<xray.DataArray (result: 6)>\n",
       "array([  6.   ,  88.   ,  86.   ,  15.   ,   0.657,  33.5  ])\n",
       "Coordinates:\n",
       "  * result   (result) <U4 u'rk' u'w' u'l' u'draw' u'w-l%' u'gb'"
      ]
     },
     "execution_count": 31,
     "metadata": {},
     "output_type": "execute_result"
    }
   ],
   "source": [
    "# result次元をグループ化した最大値\n",
    "da3.groupby('result').max()"
   ]
  },
  {
   "cell_type": "code",
   "execution_count": 32,
   "metadata": {
    "collapsed": false,
    "scrolled": true
   },
   "outputs": [
    {
     "data": {
      "text/plain": [
       "<xray.DataArray (result: 6)>\n",
       "array([  4.33333333,  65.5       ,  72.33333333,   6.16666667,\n",
       "         0.4745    ,  14.5       ])\n",
       "Coordinates:\n",
       "    team     <U6 u'\\u30ed\\u30c3\\u30c6'\n",
       "  * result   (result) <U4 u'rk' u'w' u'l' u'draw' u'w-l%' u'gb'"
      ]
     },
     "execution_count": 32,
     "metadata": {},
     "output_type": "execute_result"
    }
   ],
   "source": [
    "# チーム名で絞り込んでグループ化した平均\n",
    "da3.sel(team=u'ロッテ').groupby('result').mean()"
   ]
  },
  {
   "cell_type": "code",
   "execution_count": 33,
   "metadata": {
    "collapsed": false
   },
   "outputs": [
    {
     "data": {
      "text/plain": [
       "<xray.DataArray (result: 6)>\n",
       "array([  3.5   ,  73.5   ,  68.5   ,   2.5   ,   0.5175,   9.    ])\n",
       "Coordinates:\n",
       "  * result   (result) <U4 u'rk' u'w' u'l' u'draw' u'w-l%' u'gb'\n",
       "    year     int64 2013"
      ]
     },
     "execution_count": 33,
     "metadata": {},
     "output_type": "execute_result"
    }
   ],
   "source": [
    "# 年で絞り込んでグループ化した平均\n",
    "da3.sel(year=2013).groupby('result').median()"
   ]
  },
  {
   "cell_type": "code",
   "execution_count": 34,
   "metadata": {
    "collapsed": false,
    "scrolled": true
   },
   "outputs": [
    {
     "name": "stdout",
     "output_type": "stream",
     "text": [
      "(u'rk', <xray.DataArray (team: 6, year: 6)>\n",
      "array([[ 6.,  5.,  4.,  6.,  5.,  2.],\n",
      "       [ 3.,  1.,  1.,  3.,  4.,  1.],\n",
      "       [ 5.,  3.,  6.,  5.,  3.,  4.],\n",
      "       [ 1.,  4.,  2.,  1.,  6.,  3.],\n",
      "       [ 2.,  6.,  5.,  4.,  1.,  6.],\n",
      "       [ 4.,  2.,  3.,  2.,  2.,  5.]])\n",
      "Coordinates:\n",
      "  * team     (team) <U6 u'\\u30aa\\u30ea\\u30c3\\u30af\\u30b9' ...\n",
      "    result   <U4 u'rk'\n",
      "  * year     (year) int64 2009 2010 2011 2012 2013 2014)\n",
      "(u'w', <xray.DataArray (team: 6, year: 6)>\n",
      "array([[ 56.,  69.,  69.,  57.,  66.,  80.],\n",
      "       [ 74.,  76.,  88.,  67.,  73.,  78.],\n",
      "       [ 62.,  75.,  54.,  62.,  74.,  66.],\n",
      "       [ 82.,  74.,  72.,  74.,  64.,  73.],\n",
      "       [ 77.,  62.,  66.,  67.,  82.,  64.],\n",
      "       [ 70.,  78.,  68.,  72.,  74.,  63.]])\n",
      "Coordinates:\n",
      "  * team     (team) <U6 u'\\u30aa\\u30ea\\u30c3\\u30af\\u30b9' ...\n",
      "    result   <U4 u'w'\n",
      "  * year     (year) int64 2009 2010 2011 2012 2013 2014)\n",
      "(u'l', <xray.DataArray (team: 6, year: 6)>\n",
      "array([[ 86.,  71.,  68.,  77.,  73.,  62.],\n",
      "       [ 65.,  63.,  46.,  65.,  69.,  60.],\n",
      "       [ 77.,  67.,  79.,  67.,  68.,  76.],\n",
      "       [ 60.,  67.,  65.,  59.,  78.,  68.],\n",
      "       [ 66.,  79.,  71.,  67.,  59.,  80.],\n",
      "       [ 70.,  65.,  67.,  63.,  66.,  77.]])\n",
      "Coordinates:\n",
      "  * team     (team) <U6 u'\\u30aa\\u30ea\\u30c3\\u30af\\u30b9' ...\n",
      "    result   <U4 u'l'\n",
      "  * year     (year) int64 2009 2010 2011 2012 2013 2014)\n",
      "(u'draw', <xray.DataArray (team: 6, year: 6)>\n",
      "array([[  2.,   4.,   7.,  10.,   5.,   2.],\n",
      "       [  5.,   5.,  10.,  12.,   2.,   6.],\n",
      "       [  5.,   2.,  11.,  15.,   2.,   2.],\n",
      "       [  2.,   3.,   7.,  11.,   2.,   3.],\n",
      "       [  1.,   3.,   7.,  10.,   3.,   0.],\n",
      "       [  4.,   1.,   9.,   9.,   4.,   4.]])\n",
      "Coordinates:\n",
      "  * team     (team) <U6 u'\\u30aa\\u30ea\\u30c3\\u30af\\u30b9' ...\n",
      "    result   <U4 u'draw'\n",
      "  * year     (year) int64 2009 2010 2011 2012 2013 2014)\n",
      "(u'w-l%', <xray.DataArray (team: 6, year: 6)>\n",
      "array([[ 0.394,  0.493,  0.504,  0.425,  0.475,  0.563],\n",
      "       [ 0.532,  0.547,  0.657,  0.508,  0.514,  0.565],\n",
      "       [ 0.446,  0.528,  0.406,  0.481,  0.521,  0.465],\n",
      "       [ 0.577,  0.525,  0.526,  0.556,  0.451,  0.518],\n",
      "       [ 0.538,  0.44 ,  0.482,  0.5  ,  0.582,  0.444],\n",
      "       [ 0.5  ,  0.545,  0.504,  0.533,  0.529,  0.45 ]])\n",
      "Coordinates:\n",
      "  * team     (team) <U6 u'\\u30aa\\u30ea\\u30c3\\u30af\\u30b9' ...\n",
      "    result   <U4 u'w-l%'\n",
      "  * year     (year) int64 2009 2010 2011 2012 2013 2014)\n",
      "(u'gb', <xray.DataArray (team: 6, year: 6)>\n",
      "array([[ 26. ,   7.5,  20.5,  17.5,  15. ,   0. ],\n",
      "       [  6.5,   0. ,   0. ,   6.5,   9.5,   0. ],\n",
      "       [ 18.5,   2.5,  33.5,  10. ,   8.5,  14. ],\n",
      "       [  0. ,   3. ,  17.5,   0. ,  18.5,   6.5],\n",
      "       [  5.5,  15. ,  23.5,   7.5,   0. ,  17. ],\n",
      "       [ 11. ,   0. ,  20.5,   3. ,   7.5,  16. ]])\n",
      "Coordinates:\n",
      "  * team     (team) <U6 u'\\u30aa\\u30ea\\u30c3\\u30af\\u30b9' ...\n",
      "    result   <U4 u'gb'\n",
      "  * year     (year) int64 2009 2010 2011 2012 2013 2014)\n"
     ]
    }
   ],
   "source": [
    "# グループ化した結果はイテレーション可能\n",
    "for x in da3.groupby('result'):\n",
    "    print x"
   ]
  },
  {
   "cell_type": "markdown",
   "metadata": {},
   "source": [
    "### 打撃成績のデータを追加"
   ]
  },
  {
   "cell_type": "code",
   "execution_count": 35,
   "metadata": {
    "collapsed": true
   },
   "outputs": [],
   "source": [
    "data_b3 = array([[[  2.74000000e-01,   2.71000000e-01,   2.48000000e-01,\n",
    "           2.41000000e-01,   2.56000000e-01,   2.58000000e-01],\n",
    "        [  1.34800000e+03,   1.33700000e+03,   1.17200000e+03,\n",
    "           1.14200000e+03,   1.23500000e+03,   1.21500000e+03],\n",
    "        [  2.57000000e+02,   2.51000000e+02,   1.86000000e+02,\n",
    "           1.99000000e+02,   2.16000000e+02,   2.11000000e+02],\n",
    "        [  1.20000000e+01,   2.70000000e+01,   1.50000000e+01,\n",
    "           1.90000000e+01,   1.80000000e+01,   2.20000000e+01],\n",
    "        [  1.18000000e+02,   1.46000000e+02,   7.60000000e+01,\n",
    "           7.30000000e+01,   9.30000000e+01,   1.10000000e+02],\n",
    "        [  5.59000000e+02,   6.24000000e+02,   4.59000000e+02,\n",
    "           4.24000000e+02,   4.85000000e+02,   5.59000000e+02]],\n",
    "\n",
    "       [[  2.63000000e-01,   2.67000000e-01,   2.67000000e-01,\n",
    "           2.52000000e-01,   2.74000000e-01,   2.80000000e-01],\n",
    "        [  1.26300000e+03,   1.30800000e+03,   1.27100000e+03,\n",
    "           1.19500000e+03,   1.34800000e+03,   1.38300000e+03],\n",
    "        [  2.39000000e+02,   2.22000000e+02,   2.16000000e+02,\n",
    "           1.85000000e+02,   2.25000000e+02,   2.27000000e+02],\n",
    "        [  3.00000000e+01,   2.30000000e+01,   3.40000000e+01,\n",
    "           3.20000000e+01,   3.10000000e+01,   3.00000000e+01],\n",
    "        [  1.29000000e+02,   1.34000000e+02,   9.00000000e+01,\n",
    "           7.00000000e+01,   1.25000000e+02,   9.50000000e+01],\n",
    "        [  5.81000000e+02,   6.11000000e+02,   5.28000000e+02,\n",
    "           4.39000000e+02,   6.35000000e+02,   5.74000000e+02]],\n",
    "\n",
    "       [[  2.56000000e-01,   2.75000000e-01,   2.41000000e-01,\n",
    "           2.57000000e-01,   2.62000000e-01,   2.51000000e-01],\n",
    "        [  1.24900000e+03,   1.35000000e+03,   1.14600000e+03,\n",
    "           1.21500000e+03,   1.25700000e+03,   1.21300000e+03],\n",
    "        [  2.45000000e+02,   2.44000000e+02,   1.78000000e+02,\n",
    "           2.08000000e+02,   2.06000000e+02,   2.60000000e+02],\n",
    "        [  2.60000000e+01,   1.70000000e+01,   2.20000000e+01,\n",
    "           2.00000000e+01,   2.90000000e+01,   3.30000000e+01],\n",
    "        [  1.35000000e+02,   1.26000000e+02,   4.60000000e+01,\n",
    "           6.40000000e+01,   9.10000000e+01,   9.60000000e+01],\n",
    "        [  6.00000000e+02,   6.63000000e+02,   4.15000000e+02,\n",
    "           4.77000000e+02,   5.32000000e+02,   5.19000000e+02]],\n",
    "\n",
    "       [[  2.78000000e-01,   2.74000000e-01,   2.51000000e-01,\n",
    "           2.56000000e-01,   2.56000000e-01,   2.51000000e-01],\n",
    "        [  1.37000000e+03,   1.33000000e+03,   1.18900000e+03,\n",
    "           1.22000000e+03,   1.22700000e+03,   1.18800000e+03],\n",
    "        [  2.90000000e+02,   2.29000000e+02,   2.02000000e+02,\n",
    "           1.95000000e+02,   2.00000000e+02,   1.88000000e+02],\n",
    "        [  2.70000000e+01,   2.00000000e+01,   1.80000000e+01,\n",
    "           2.00000000e+01,   9.00000000e+00,   2.90000000e+01],\n",
    "        [  1.12000000e+02,   9.10000000e+01,   8.60000000e+01,\n",
    "           9.00000000e+01,   1.05000000e+02,   1.19000000e+02],\n",
    "        [  6.56000000e+02,   5.85000000e+02,   4.57000000e+02,\n",
    "           4.85000000e+02,   5.14000000e+02,   5.64000000e+02]],\n",
    "\n",
    "       [[  2.67000000e-01,   2.65000000e-01,   2.45000000e-01,\n",
    "           2.52000000e-01,   2.67000000e-01,   2.55000000e-01],\n",
    "        [  1.29500000e+03,   1.29000000e+03,   1.14000000e+03,\n",
    "           1.19200000e+03,   1.28700000e+03,   1.21400000e+03],\n",
    "        [  2.33000000e+02,   2.33000000e+02,   1.75000000e+02,\n",
    "           1.75000000e+02,   2.08000000e+02,   2.15000000e+02],\n",
    "        [  2.10000000e+01,   2.00000000e+01,   1.30000000e+01,\n",
    "           2.40000000e+01,   2.00000000e+01,   1.80000000e+01],\n",
    "        [  1.08000000e+02,   9.50000000e+01,   5.30000000e+01,\n",
    "           5.20000000e+01,   9.70000000e+01,   7.80000000e+01],\n",
    "        [  5.68000000e+02,   5.46000000e+02,   4.08000000e+02,\n",
    "           4.63000000e+02,   5.93000000e+02,   5.18000000e+02]],\n",
    "\n",
    "       [[  2.61000000e-01,   2.71000000e-01,   2.53000000e-01,\n",
    "           2.51000000e-01,   2.57000000e-01,   2.48000000e-01],\n",
    "        [  1.28700000e+03,   1.31700000e+03,   1.20400000e+03,\n",
    "           1.16800000e+03,   1.22600000e+03,   1.18700000e+03],\n",
    "        [  2.56000000e+02,   2.43000000e+02,   1.91000000e+02,\n",
    "           1.86000000e+02,   1.85000000e+02,   2.21000000e+02],\n",
    "        [  2.50000000e+01,   2.00000000e+01,   1.80000000e+01,\n",
    "           2.70000000e+01,   3.10000000e+01,   2.60000000e+01],\n",
    "        [  1.63000000e+02,   1.50000000e+02,   1.03000000e+02,\n",
    "           7.80000000e+01,   8.60000000e+01,   1.25000000e+02],\n",
    "        [  6.40000000e+02,   6.55000000e+02,   5.51000000e+02,\n",
    "           4.83000000e+02,   5.40000000e+02,   5.49000000e+02]]])"
   ]
  },
  {
   "cell_type": "code",
   "execution_count": 36,
   "metadata": {
    "collapsed": true
   },
   "outputs": [],
   "source": [
    "result_b = [u'ba', u'h', u'2b', u'3b', u'hr', u'rbi']\n",
    "# 打率, ヒット, 二塁打, 三塁打, ホームラン, 打点"
   ]
  },
  {
   "cell_type": "code",
   "execution_count": 37,
   "metadata": {
    "collapsed": false,
    "scrolled": true
   },
   "outputs": [
    {
     "data": {
      "text/plain": [
       "<xray.DataArray (team: 6, result: 6, year: 6)>\n",
       "array([[[  2.74000000e-01,   2.71000000e-01,   2.48000000e-01,\n",
       "           2.41000000e-01,   2.56000000e-01,   2.58000000e-01],\n",
       "        [  1.34800000e+03,   1.33700000e+03,   1.17200000e+03,\n",
       "           1.14200000e+03,   1.23500000e+03,   1.21500000e+03],\n",
       "        [  2.57000000e+02,   2.51000000e+02,   1.86000000e+02,\n",
       "           1.99000000e+02,   2.16000000e+02,   2.11000000e+02],\n",
       "        [  1.20000000e+01,   2.70000000e+01,   1.50000000e+01,\n",
       "           1.90000000e+01,   1.80000000e+01,   2.20000000e+01],\n",
       "        [  1.18000000e+02,   1.46000000e+02,   7.60000000e+01,\n",
       "           7.30000000e+01,   9.30000000e+01,   1.10000000e+02],\n",
       "        [  5.59000000e+02,   6.24000000e+02,   4.59000000e+02,\n",
       "           4.24000000e+02,   4.85000000e+02,   5.59000000e+02]],\n",
       "\n",
       "       [[  2.63000000e-01,   2.67000000e-01,   2.67000000e-01,\n",
       "           2.52000000e-01,   2.74000000e-01,   2.80000000e-01],\n",
       "        [  1.26300000e+03,   1.30800000e+03,   1.27100000e+03,\n",
       "           1.19500000e+03,   1.34800000e+03,   1.38300000e+03],\n",
       "        [  2.39000000e+02,   2.22000000e+02,   2.16000000e+02,\n",
       "           1.85000000e+02,   2.25000000e+02,   2.27000000e+02],\n",
       "        [  3.00000000e+01,   2.30000000e+01,   3.40000000e+01,\n",
       "           3.20000000e+01,   3.10000000e+01,   3.00000000e+01],\n",
       "        [  1.29000000e+02,   1.34000000e+02,   9.00000000e+01,\n",
       "           7.00000000e+01,   1.25000000e+02,   9.50000000e+01],\n",
       "        [  5.81000000e+02,   6.11000000e+02,   5.28000000e+02,\n",
       "           4.39000000e+02,   6.35000000e+02,   5.74000000e+02]],\n",
       "\n",
       "       [[  2.56000000e-01,   2.75000000e-01,   2.41000000e-01,\n",
       "           2.57000000e-01,   2.62000000e-01,   2.51000000e-01],\n",
       "        [  1.24900000e+03,   1.35000000e+03,   1.14600000e+03,\n",
       "           1.21500000e+03,   1.25700000e+03,   1.21300000e+03],\n",
       "        [  2.45000000e+02,   2.44000000e+02,   1.78000000e+02,\n",
       "           2.08000000e+02,   2.06000000e+02,   2.60000000e+02],\n",
       "        [  2.60000000e+01,   1.70000000e+01,   2.20000000e+01,\n",
       "           2.00000000e+01,   2.90000000e+01,   3.30000000e+01],\n",
       "        [  1.35000000e+02,   1.26000000e+02,   4.60000000e+01,\n",
       "           6.40000000e+01,   9.10000000e+01,   9.60000000e+01],\n",
       "        [  6.00000000e+02,   6.63000000e+02,   4.15000000e+02,\n",
       "           4.77000000e+02,   5.32000000e+02,   5.19000000e+02]],\n",
       "\n",
       "       [[  2.78000000e-01,   2.74000000e-01,   2.51000000e-01,\n",
       "           2.56000000e-01,   2.56000000e-01,   2.51000000e-01],\n",
       "        [  1.37000000e+03,   1.33000000e+03,   1.18900000e+03,\n",
       "           1.22000000e+03,   1.22700000e+03,   1.18800000e+03],\n",
       "        [  2.90000000e+02,   2.29000000e+02,   2.02000000e+02,\n",
       "           1.95000000e+02,   2.00000000e+02,   1.88000000e+02],\n",
       "        [  2.70000000e+01,   2.00000000e+01,   1.80000000e+01,\n",
       "           2.00000000e+01,   9.00000000e+00,   2.90000000e+01],\n",
       "        [  1.12000000e+02,   9.10000000e+01,   8.60000000e+01,\n",
       "           9.00000000e+01,   1.05000000e+02,   1.19000000e+02],\n",
       "        [  6.56000000e+02,   5.85000000e+02,   4.57000000e+02,\n",
       "           4.85000000e+02,   5.14000000e+02,   5.64000000e+02]],\n",
       "\n",
       "       [[  2.67000000e-01,   2.65000000e-01,   2.45000000e-01,\n",
       "           2.52000000e-01,   2.67000000e-01,   2.55000000e-01],\n",
       "        [  1.29500000e+03,   1.29000000e+03,   1.14000000e+03,\n",
       "           1.19200000e+03,   1.28700000e+03,   1.21400000e+03],\n",
       "        [  2.33000000e+02,   2.33000000e+02,   1.75000000e+02,\n",
       "           1.75000000e+02,   2.08000000e+02,   2.15000000e+02],\n",
       "        [  2.10000000e+01,   2.00000000e+01,   1.30000000e+01,\n",
       "           2.40000000e+01,   2.00000000e+01,   1.80000000e+01],\n",
       "        [  1.08000000e+02,   9.50000000e+01,   5.30000000e+01,\n",
       "           5.20000000e+01,   9.70000000e+01,   7.80000000e+01],\n",
       "        [  5.68000000e+02,   5.46000000e+02,   4.08000000e+02,\n",
       "           4.63000000e+02,   5.93000000e+02,   5.18000000e+02]],\n",
       "\n",
       "       [[  2.61000000e-01,   2.71000000e-01,   2.53000000e-01,\n",
       "           2.51000000e-01,   2.57000000e-01,   2.48000000e-01],\n",
       "        [  1.28700000e+03,   1.31700000e+03,   1.20400000e+03,\n",
       "           1.16800000e+03,   1.22600000e+03,   1.18700000e+03],\n",
       "        [  2.56000000e+02,   2.43000000e+02,   1.91000000e+02,\n",
       "           1.86000000e+02,   1.85000000e+02,   2.21000000e+02],\n",
       "        [  2.50000000e+01,   2.00000000e+01,   1.80000000e+01,\n",
       "           2.70000000e+01,   3.10000000e+01,   2.60000000e+01],\n",
       "        [  1.63000000e+02,   1.50000000e+02,   1.03000000e+02,\n",
       "           7.80000000e+01,   8.60000000e+01,   1.25000000e+02],\n",
       "        [  6.40000000e+02,   6.55000000e+02,   5.51000000e+02,\n",
       "           4.83000000e+02,   5.40000000e+02,   5.49000000e+02]]])\n",
       "Coordinates:\n",
       "  * team     (team) <U6 u'\\u30aa\\u30ea\\u30c3\\u30af\\u30b9' ...\n",
       "  * result   (result) <U3 u'ba' u'h' u'2b' u'3b' u'hr' u'rbi'\n",
       "  * year     (year) int64 2009 2010 2011 2012 2013 2014"
      ]
     },
     "execution_count": 37,
     "metadata": {},
     "output_type": "execute_result"
    }
   ],
   "source": [
    "da_b3 = xray.DataArray(data_b3, coords=[team, result_b, year], dims=['team', 'result', 'year'])\n",
    "da_b3"
   ]
  },
  {
   "cell_type": "code",
   "execution_count": 38,
   "metadata": {
    "collapsed": false,
    "scrolled": true
   },
   "outputs": [
    {
     "data": {
      "text/plain": [
       "<xray.DataArray (result: 6)>\n",
       "array([  2.56000000e-01,   1.23500000e+03,   2.16000000e+02,\n",
       "         1.80000000e+01,   9.30000000e+01,   4.85000000e+02])\n",
       "Coordinates:\n",
       "    team     <U6 u'\\u30aa\\u30ea\\u30c3\\u30af\\u30b9'\n",
       "  * result   (result) <U3 u'ba' u'h' u'2b' u'3b' u'hr' u'rbi'\n",
       "    year     int64 2013"
      ]
     },
     "execution_count": 38,
     "metadata": {},
     "output_type": "execute_result"
    }
   ],
   "source": [
    "da_b3.sel(team=u'オリックス', year=2013)"
   ]
  },
  {
   "cell_type": "markdown",
   "metadata": {},
   "source": [
    "### データを連結"
   ]
  },
  {
   "cell_type": "code",
   "execution_count": 39,
   "metadata": {
    "collapsed": false
   },
   "outputs": [
    {
     "data": {
      "text/plain": [
       "<xray.DataArray (team: 6, result: 12, year: 6)>\n",
       "array([[[  6.00000000e+00,   5.00000000e+00,   4.00000000e+00,\n",
       "           6.00000000e+00,   5.00000000e+00,   2.00000000e+00],\n",
       "        [  5.60000000e+01,   6.90000000e+01,   6.90000000e+01,\n",
       "           5.70000000e+01,   6.60000000e+01,   8.00000000e+01],\n",
       "        [  8.60000000e+01,   7.10000000e+01,   6.80000000e+01,\n",
       "           7.70000000e+01,   7.30000000e+01,   6.20000000e+01],\n",
       "        [  2.00000000e+00,   4.00000000e+00,   7.00000000e+00,\n",
       "           1.00000000e+01,   5.00000000e+00,   2.00000000e+00],\n",
       "        [  3.94000000e-01,   4.93000000e-01,   5.04000000e-01,\n",
       "           4.25000000e-01,   4.75000000e-01,   5.63000000e-01],\n",
       "        [  2.60000000e+01,   7.50000000e+00,   2.05000000e+01,\n",
       "           1.75000000e+01,   1.50000000e+01,   0.00000000e+00],\n",
       "        [  2.74000000e-01,   2.71000000e-01,   2.48000000e-01,\n",
       "           2.41000000e-01,   2.56000000e-01,   2.58000000e-01],\n",
       "        [  1.34800000e+03,   1.33700000e+03,   1.17200000e+03,\n",
       "           1.14200000e+03,   1.23500000e+03,   1.21500000e+03],\n",
       "        [  2.57000000e+02,   2.51000000e+02,   1.86000000e+02,\n",
       "           1.99000000e+02,   2.16000000e+02,   2.11000000e+02],\n",
       "        [  1.20000000e+01,   2.70000000e+01,   1.50000000e+01,\n",
       "           1.90000000e+01,   1.80000000e+01,   2.20000000e+01],\n",
       "        [  1.18000000e+02,   1.46000000e+02,   7.60000000e+01,\n",
       "           7.30000000e+01,   9.30000000e+01,   1.10000000e+02],\n",
       "        [  5.59000000e+02,   6.24000000e+02,   4.59000000e+02,\n",
       "           4.24000000e+02,   4.85000000e+02,   5.59000000e+02]],\n",
       "\n",
       "       [[  3.00000000e+00,   1.00000000e+00,   1.00000000e+00,\n",
       "           3.00000000e+00,   4.00000000e+00,   1.00000000e+00],\n",
       "        [  7.40000000e+01,   7.60000000e+01,   8.80000000e+01,\n",
       "           6.70000000e+01,   7.30000000e+01,   7.80000000e+01],\n",
       "        [  6.50000000e+01,   6.30000000e+01,   4.60000000e+01,\n",
       "           6.50000000e+01,   6.90000000e+01,   6.00000000e+01],\n",
       "        [  5.00000000e+00,   5.00000000e+00,   1.00000000e+01,\n",
       "           1.20000000e+01,   2.00000000e+00,   6.00000000e+00],\n",
       "        [  5.32000000e-01,   5.47000000e-01,   6.57000000e-01,\n",
       "           5.08000000e-01,   5.14000000e-01,   5.65000000e-01],\n",
       "        [  6.50000000e+00,   0.00000000e+00,   0.00000000e+00,\n",
       "           6.50000000e+00,   9.50000000e+00,   0.00000000e+00],\n",
       "        [  2.63000000e-01,   2.67000000e-01,   2.67000000e-01,\n",
       "           2.52000000e-01,   2.74000000e-01,   2.80000000e-01],\n",
       "        [  1.26300000e+03,   1.30800000e+03,   1.27100000e+03,\n",
       "           1.19500000e+03,   1.34800000e+03,   1.38300000e+03],\n",
       "        [  2.39000000e+02,   2.22000000e+02,   2.16000000e+02,\n",
       "           1.85000000e+02,   2.25000000e+02,   2.27000000e+02],\n",
       "        [  3.00000000e+01,   2.30000000e+01,   3.40000000e+01,\n",
       "           3.20000000e+01,   3.10000000e+01,   3.00000000e+01],\n",
       "        [  1.29000000e+02,   1.34000000e+02,   9.00000000e+01,\n",
       "           7.00000000e+01,   1.25000000e+02,   9.50000000e+01],\n",
       "        [  5.81000000e+02,   6.11000000e+02,   5.28000000e+02,\n",
       "           4.39000000e+02,   6.35000000e+02,   5.74000000e+02]],\n",
       "\n",
       "       [[  5.00000000e+00,   3.00000000e+00,   6.00000000e+00,\n",
       "           5.00000000e+00,   3.00000000e+00,   4.00000000e+00],\n",
       "        [  6.20000000e+01,   7.50000000e+01,   5.40000000e+01,\n",
       "           6.20000000e+01,   7.40000000e+01,   6.60000000e+01],\n",
       "        [  7.70000000e+01,   6.70000000e+01,   7.90000000e+01,\n",
       "           6.70000000e+01,   6.80000000e+01,   7.60000000e+01],\n",
       "        [  5.00000000e+00,   2.00000000e+00,   1.10000000e+01,\n",
       "           1.50000000e+01,   2.00000000e+00,   2.00000000e+00],\n",
       "        [  4.46000000e-01,   5.28000000e-01,   4.06000000e-01,\n",
       "           4.81000000e-01,   5.21000000e-01,   4.65000000e-01],\n",
       "        [  1.85000000e+01,   2.50000000e+00,   3.35000000e+01,\n",
       "           1.00000000e+01,   8.50000000e+00,   1.40000000e+01],\n",
       "        [  2.56000000e-01,   2.75000000e-01,   2.41000000e-01,\n",
       "           2.57000000e-01,   2.62000000e-01,   2.51000000e-01],\n",
       "        [  1.24900000e+03,   1.35000000e+03,   1.14600000e+03,\n",
       "           1.21500000e+03,   1.25700000e+03,   1.21300000e+03],\n",
       "        [  2.45000000e+02,   2.44000000e+02,   1.78000000e+02,\n",
       "           2.08000000e+02,   2.06000000e+02,   2.60000000e+02],\n",
       "        [  2.60000000e+01,   1.70000000e+01,   2.20000000e+01,\n",
       "           2.00000000e+01,   2.90000000e+01,   3.30000000e+01],\n",
       "        [  1.35000000e+02,   1.26000000e+02,   4.60000000e+01,\n",
       "           6.40000000e+01,   9.10000000e+01,   9.60000000e+01],\n",
       "        [  6.00000000e+02,   6.63000000e+02,   4.15000000e+02,\n",
       "           4.77000000e+02,   5.32000000e+02,   5.19000000e+02]],\n",
       "\n",
       "       [[  1.00000000e+00,   4.00000000e+00,   2.00000000e+00,\n",
       "           1.00000000e+00,   6.00000000e+00,   3.00000000e+00],\n",
       "        [  8.20000000e+01,   7.40000000e+01,   7.20000000e+01,\n",
       "           7.40000000e+01,   6.40000000e+01,   7.30000000e+01],\n",
       "        [  6.00000000e+01,   6.70000000e+01,   6.50000000e+01,\n",
       "           5.90000000e+01,   7.80000000e+01,   6.80000000e+01],\n",
       "        [  2.00000000e+00,   3.00000000e+00,   7.00000000e+00,\n",
       "           1.10000000e+01,   2.00000000e+00,   3.00000000e+00],\n",
       "        [  5.77000000e-01,   5.25000000e-01,   5.26000000e-01,\n",
       "           5.56000000e-01,   4.51000000e-01,   5.18000000e-01],\n",
       "        [  0.00000000e+00,   3.00000000e+00,   1.75000000e+01,\n",
       "           0.00000000e+00,   1.85000000e+01,   6.50000000e+00],\n",
       "        [  2.78000000e-01,   2.74000000e-01,   2.51000000e-01,\n",
       "           2.56000000e-01,   2.56000000e-01,   2.51000000e-01],\n",
       "        [  1.37000000e+03,   1.33000000e+03,   1.18900000e+03,\n",
       "           1.22000000e+03,   1.22700000e+03,   1.18800000e+03],\n",
       "        [  2.90000000e+02,   2.29000000e+02,   2.02000000e+02,\n",
       "           1.95000000e+02,   2.00000000e+02,   1.88000000e+02],\n",
       "        [  2.70000000e+01,   2.00000000e+01,   1.80000000e+01,\n",
       "           2.00000000e+01,   9.00000000e+00,   2.90000000e+01],\n",
       "        [  1.12000000e+02,   9.10000000e+01,   8.60000000e+01,\n",
       "           9.00000000e+01,   1.05000000e+02,   1.19000000e+02],\n",
       "        [  6.56000000e+02,   5.85000000e+02,   4.57000000e+02,\n",
       "           4.85000000e+02,   5.14000000e+02,   5.64000000e+02]],\n",
       "\n",
       "       [[  2.00000000e+00,   6.00000000e+00,   5.00000000e+00,\n",
       "           4.00000000e+00,   1.00000000e+00,   6.00000000e+00],\n",
       "        [  7.70000000e+01,   6.20000000e+01,   6.60000000e+01,\n",
       "           6.70000000e+01,   8.20000000e+01,   6.40000000e+01],\n",
       "        [  6.60000000e+01,   7.90000000e+01,   7.10000000e+01,\n",
       "           6.70000000e+01,   5.90000000e+01,   8.00000000e+01],\n",
       "        [  1.00000000e+00,   3.00000000e+00,   7.00000000e+00,\n",
       "           1.00000000e+01,   3.00000000e+00,   0.00000000e+00],\n",
       "        [  5.38000000e-01,   4.40000000e-01,   4.82000000e-01,\n",
       "           5.00000000e-01,   5.82000000e-01,   4.44000000e-01],\n",
       "        [  5.50000000e+00,   1.50000000e+01,   2.35000000e+01,\n",
       "           7.50000000e+00,   0.00000000e+00,   1.70000000e+01],\n",
       "        [  2.67000000e-01,   2.65000000e-01,   2.45000000e-01,\n",
       "           2.52000000e-01,   2.67000000e-01,   2.55000000e-01],\n",
       "        [  1.29500000e+03,   1.29000000e+03,   1.14000000e+03,\n",
       "           1.19200000e+03,   1.28700000e+03,   1.21400000e+03],\n",
       "        [  2.33000000e+02,   2.33000000e+02,   1.75000000e+02,\n",
       "           1.75000000e+02,   2.08000000e+02,   2.15000000e+02],\n",
       "        [  2.10000000e+01,   2.00000000e+01,   1.30000000e+01,\n",
       "           2.40000000e+01,   2.00000000e+01,   1.80000000e+01],\n",
       "        [  1.08000000e+02,   9.50000000e+01,   5.30000000e+01,\n",
       "           5.20000000e+01,   9.70000000e+01,   7.80000000e+01],\n",
       "        [  5.68000000e+02,   5.46000000e+02,   4.08000000e+02,\n",
       "           4.63000000e+02,   5.93000000e+02,   5.18000000e+02]],\n",
       "\n",
       "       [[  4.00000000e+00,   2.00000000e+00,   3.00000000e+00,\n",
       "           2.00000000e+00,   2.00000000e+00,   5.00000000e+00],\n",
       "        [  7.00000000e+01,   7.80000000e+01,   6.80000000e+01,\n",
       "           7.20000000e+01,   7.40000000e+01,   6.30000000e+01],\n",
       "        [  7.00000000e+01,   6.50000000e+01,   6.70000000e+01,\n",
       "           6.30000000e+01,   6.60000000e+01,   7.70000000e+01],\n",
       "        [  4.00000000e+00,   1.00000000e+00,   9.00000000e+00,\n",
       "           9.00000000e+00,   4.00000000e+00,   4.00000000e+00],\n",
       "        [  5.00000000e-01,   5.45000000e-01,   5.04000000e-01,\n",
       "           5.33000000e-01,   5.29000000e-01,   4.50000000e-01],\n",
       "        [  1.10000000e+01,   0.00000000e+00,   2.05000000e+01,\n",
       "           3.00000000e+00,   7.50000000e+00,   1.60000000e+01],\n",
       "        [  2.61000000e-01,   2.71000000e-01,   2.53000000e-01,\n",
       "           2.51000000e-01,   2.57000000e-01,   2.48000000e-01],\n",
       "        [  1.28700000e+03,   1.31700000e+03,   1.20400000e+03,\n",
       "           1.16800000e+03,   1.22600000e+03,   1.18700000e+03],\n",
       "        [  2.56000000e+02,   2.43000000e+02,   1.91000000e+02,\n",
       "           1.86000000e+02,   1.85000000e+02,   2.21000000e+02],\n",
       "        [  2.50000000e+01,   2.00000000e+01,   1.80000000e+01,\n",
       "           2.70000000e+01,   3.10000000e+01,   2.60000000e+01],\n",
       "        [  1.63000000e+02,   1.50000000e+02,   1.03000000e+02,\n",
       "           7.80000000e+01,   8.60000000e+01,   1.25000000e+02],\n",
       "        [  6.40000000e+02,   6.55000000e+02,   5.51000000e+02,\n",
       "           4.83000000e+02,   5.40000000e+02,   5.49000000e+02]]])\n",
       "Coordinates:\n",
       "  * team     (team) <U6 u'\\u30aa\\u30ea\\u30c3\\u30af\\u30b9' ...\n",
       "  * year     (year) int64 2009 2010 2011 2012 2013 2014\n",
       "  * result   (result) <U4 u'rk' u'w' u'l' u'draw' u'w-l%' u'gb' u'ba' u'h' ..."
      ]
     },
     "execution_count": 39,
     "metadata": {},
     "output_type": "execute_result"
    }
   ],
   "source": [
    "da_m3 = xray.concat([da3, da_b3], dim='result')\n",
    "da_m3"
   ]
  },
  {
   "cell_type": "code",
   "execution_count": 40,
   "metadata": {
    "collapsed": false
   },
   "outputs": [
    {
     "data": {
      "text/plain": [
       "(6, 12, 6)"
      ]
     },
     "execution_count": 40,
     "metadata": {},
     "output_type": "execute_result"
    }
   ],
   "source": [
    "da_m3.shape"
   ]
  },
  {
   "cell_type": "code",
   "execution_count": 41,
   "metadata": {
    "collapsed": false
   },
   "outputs": [
    {
     "data": {
      "text/plain": [
       "<xray.DataArray (result: 12, year: 6)>\n",
       "array([[  1.00000000e+00,   4.00000000e+00,   2.00000000e+00,\n",
       "          1.00000000e+00,   6.00000000e+00,   3.00000000e+00],\n",
       "       [  8.20000000e+01,   7.40000000e+01,   7.20000000e+01,\n",
       "          7.40000000e+01,   6.40000000e+01,   7.30000000e+01],\n",
       "       [  6.00000000e+01,   6.70000000e+01,   6.50000000e+01,\n",
       "          5.90000000e+01,   7.80000000e+01,   6.80000000e+01],\n",
       "       [  2.00000000e+00,   3.00000000e+00,   7.00000000e+00,\n",
       "          1.10000000e+01,   2.00000000e+00,   3.00000000e+00],\n",
       "       [  5.77000000e-01,   5.25000000e-01,   5.26000000e-01,\n",
       "          5.56000000e-01,   4.51000000e-01,   5.18000000e-01],\n",
       "       [  0.00000000e+00,   3.00000000e+00,   1.75000000e+01,\n",
       "          0.00000000e+00,   1.85000000e+01,   6.50000000e+00],\n",
       "       [  2.78000000e-01,   2.74000000e-01,   2.51000000e-01,\n",
       "          2.56000000e-01,   2.56000000e-01,   2.51000000e-01],\n",
       "       [  1.37000000e+03,   1.33000000e+03,   1.18900000e+03,\n",
       "          1.22000000e+03,   1.22700000e+03,   1.18800000e+03],\n",
       "       [  2.90000000e+02,   2.29000000e+02,   2.02000000e+02,\n",
       "          1.95000000e+02,   2.00000000e+02,   1.88000000e+02],\n",
       "       [  2.70000000e+01,   2.00000000e+01,   1.80000000e+01,\n",
       "          2.00000000e+01,   9.00000000e+00,   2.90000000e+01],\n",
       "       [  1.12000000e+02,   9.10000000e+01,   8.60000000e+01,\n",
       "          9.00000000e+01,   1.05000000e+02,   1.19000000e+02],\n",
       "       [  6.56000000e+02,   5.85000000e+02,   4.57000000e+02,\n",
       "          4.85000000e+02,   5.14000000e+02,   5.64000000e+02]])\n",
       "Coordinates:\n",
       "    team     <U6 u'\\u65e5\\u672c\\u30cf\\u30e0'\n",
       "  * year     (year) int64 2009 2010 2011 2012 2013 2014\n",
       "  * result   (result) <U4 u'rk' u'w' u'l' u'draw' u'w-l%' u'gb' u'ba' u'h' ..."
      ]
     },
     "execution_count": 41,
     "metadata": {},
     "output_type": "execute_result"
    }
   ],
   "source": [
    "da_m3.sel(team=u'日本ハム')"
   ]
  },
  {
   "cell_type": "code",
   "execution_count": 42,
   "metadata": {
    "collapsed": false
   },
   "outputs": [
    {
     "data": {
      "text/plain": [
       "<xray.DataArray (result: 2, year: 6)>\n",
       "array([[ 0.577,  0.525,  0.526,  0.556,  0.451,  0.518],\n",
       "       [ 0.278,  0.274,  0.251,  0.256,  0.256,  0.251]])\n",
       "Coordinates:\n",
       "    team     <U6 u'\\u65e5\\u672c\\u30cf\\u30e0'\n",
       "  * year     (year) int64 2009 2010 2011 2012 2013 2014\n",
       "  * result   (result) <U4 u'w-l%' u'ba'"
      ]
     },
     "execution_count": 42,
     "metadata": {},
     "output_type": "execute_result"
    }
   ],
   "source": [
    "da_m3.sel(team=u'日本ハム', result=['w-l%', 'ba'])"
   ]
  },
  {
   "cell_type": "markdown",
   "metadata": {
    "collapsed": true
   },
   "source": [
    "### 投手成績のデータを追加"
   ]
  },
  {
   "cell_type": "code",
   "execution_count": 43,
   "metadata": {
    "collapsed": true
   },
   "outputs": [],
   "source": [
    "data_p3 = array([[[    4.58,     3.97,     3.33,     3.34,     3.31,     2.89],\n",
    "        [   18.  ,    25.  ,    37.  ,    28.  ,    31.  ,    41.  ],\n",
    "        [   54.  ,    71.  ,    78.  ,    71.  ,    84.  ,   116.  ],\n",
    "        [   66.  ,    92.  ,    92.  ,    87.  ,   102.  ,   139.  ],\n",
    "        [   18.  ,    17.  ,    16.  ,    11.  ,    13.  ,    10.  ],\n",
    "        [  979.  ,  1077.  ,  1018.  ,   887.  ,  1064.  ,  1127.  ]],\n",
    "\n",
    "       [[    3.69,     3.89,     2.32,     2.56,     3.56,     3.25],\n",
    "        [   30.  ,    34.  ,    43.  ,    41.  ,    26.  ,    39.  ],\n",
    "        [   78.  ,   102.  ,    85.  ,    93.  ,    96.  ,   130.  ],\n",
    "        [  102.  ,   120.  ,    94.  ,    99.  ,   120.  ,   151.  ],\n",
    "        [   11.  ,     6.  ,    21.  ,    16.  ,     6.  ,     7.  ],\n",
    "        [ 1174.  ,  1244.  ,  1067.  ,   983.  ,   985.  ,  1077.  ]],\n",
    "\n",
    "       [[    4.23,     4.1 ,     3.4 ,     3.13,     3.77,     4.14],\n",
    "        [   26.  ,    31.  ,    32.  ,    31.  ,    36.  ,    32.  ],\n",
    "        [   58.  ,    96.  ,    68.  ,    85.  ,   126.  ,    86.  ],\n",
    "        [   78.  ,   113.  ,    76.  ,    98.  ,   149.  ,   106.  ],\n",
    "        [   22.  ,    16.  ,    13.  ,    13.  ,     3.  ,     8.  ],\n",
    "        [  976.  ,   989.  ,   832.  ,   762.  ,   899.  ,   874.  ]],\n",
    "\n",
    "       [[    3.65,     3.52,     2.68,     2.89,     3.74,     3.61],\n",
    "        [   34.  ,    27.  ,    37.  ,    40.  ,    37.  ,    33.  ],\n",
    "        [   89.  ,    92.  ,    89.  ,   131.  ,   108.  ,   124.  ],\n",
    "        [  116.  ,   113.  ,    97.  ,   150.  ,   131.  ,   148.  ],\n",
    "        [   17.  ,    15.  ,    16.  ,    13.  ,     6.  ,     8.  ],\n",
    "        [  928.  ,   943.  ,   918.  ,   868.  ,   824.  ,  1000.  ]],\n",
    "\n",
    "       [[    4.01,     3.98,     2.85,     2.99,     3.51,     3.97],\n",
    "        [   30.  ,    26.  ,    28.  ,    29.  ,    36.  ,    24.  ],\n",
    "        [   55.  ,    59.  ,    80.  ,    83.  ,    67.  ,    53.  ],\n",
    "        [   72.  ,    77.  ,   100.  ,    97.  ,    86.  ,    71.  ],\n",
    "        [   19.  ,    18.  ,    23.  ,    15.  ,    13.  ,    11.  ],\n",
    "        [  980.  ,   962.  ,   982.  ,   915.  ,   958.  ,  1005.  ]],\n",
    "\n",
    "       [[    4.01,     4.19,     3.15,     3.24,     3.54,     3.77],\n",
    "        [   28.  ,    35.  ,    31.  ,    42.  ,    29.  ,    32.  ],\n",
    "        [   87.  ,    72.  ,    56.  ,    97.  ,    92.  ,    94.  ],\n",
    "        [  102.  ,    91.  ,    74.  ,   113.  ,   118.  ,   115.  ],\n",
    "        [   19.  ,    13.  ,    18.  ,     9.  ,    17.  ,     9.  ],\n",
    "        [  987.  ,   927.  ,   860.  ,   816.  ,   984.  ,   914.  ]]])"
   ]
  },
  {
   "cell_type": "code",
   "execution_count": 44,
   "metadata": {
    "collapsed": true
   },
   "outputs": [],
   "source": [
    "result_p = [u'era', u'sv', u'hld', u'hp', u'cg', u'so']\n",
    "# 防御率, セーブ, ホールド, ホールドポイント, 完投, 三振"
   ]
  },
  {
   "cell_type": "code",
   "execution_count": 45,
   "metadata": {
    "collapsed": false,
    "scrolled": true
   },
   "outputs": [
    {
     "data": {
      "text/plain": [
       "<xray.DataArray (team: 6, result: 6, year: 6)>\n",
       "array([[[    4.58,     3.97,     3.33,     3.34,     3.31,     2.89],\n",
       "        [   18.  ,    25.  ,    37.  ,    28.  ,    31.  ,    41.  ],\n",
       "        [   54.  ,    71.  ,    78.  ,    71.  ,    84.  ,   116.  ],\n",
       "        [   66.  ,    92.  ,    92.  ,    87.  ,   102.  ,   139.  ],\n",
       "        [   18.  ,    17.  ,    16.  ,    11.  ,    13.  ,    10.  ],\n",
       "        [  979.  ,  1077.  ,  1018.  ,   887.  ,  1064.  ,  1127.  ]],\n",
       "\n",
       "       [[    3.69,     3.89,     2.32,     2.56,     3.56,     3.25],\n",
       "        [   30.  ,    34.  ,    43.  ,    41.  ,    26.  ,    39.  ],\n",
       "        [   78.  ,   102.  ,    85.  ,    93.  ,    96.  ,   130.  ],\n",
       "        [  102.  ,   120.  ,    94.  ,    99.  ,   120.  ,   151.  ],\n",
       "        [   11.  ,     6.  ,    21.  ,    16.  ,     6.  ,     7.  ],\n",
       "        [ 1174.  ,  1244.  ,  1067.  ,   983.  ,   985.  ,  1077.  ]],\n",
       "\n",
       "       [[    4.23,     4.1 ,     3.4 ,     3.13,     3.77,     4.14],\n",
       "        [   26.  ,    31.  ,    32.  ,    31.  ,    36.  ,    32.  ],\n",
       "        [   58.  ,    96.  ,    68.  ,    85.  ,   126.  ,    86.  ],\n",
       "        [   78.  ,   113.  ,    76.  ,    98.  ,   149.  ,   106.  ],\n",
       "        [   22.  ,    16.  ,    13.  ,    13.  ,     3.  ,     8.  ],\n",
       "        [  976.  ,   989.  ,   832.  ,   762.  ,   899.  ,   874.  ]],\n",
       "\n",
       "       [[    3.65,     3.52,     2.68,     2.89,     3.74,     3.61],\n",
       "        [   34.  ,    27.  ,    37.  ,    40.  ,    37.  ,    33.  ],\n",
       "        [   89.  ,    92.  ,    89.  ,   131.  ,   108.  ,   124.  ],\n",
       "        [  116.  ,   113.  ,    97.  ,   150.  ,   131.  ,   148.  ],\n",
       "        [   17.  ,    15.  ,    16.  ,    13.  ,     6.  ,     8.  ],\n",
       "        [  928.  ,   943.  ,   918.  ,   868.  ,   824.  ,  1000.  ]],\n",
       "\n",
       "       [[    4.01,     3.98,     2.85,     2.99,     3.51,     3.97],\n",
       "        [   30.  ,    26.  ,    28.  ,    29.  ,    36.  ,    24.  ],\n",
       "        [   55.  ,    59.  ,    80.  ,    83.  ,    67.  ,    53.  ],\n",
       "        [   72.  ,    77.  ,   100.  ,    97.  ,    86.  ,    71.  ],\n",
       "        [   19.  ,    18.  ,    23.  ,    15.  ,    13.  ,    11.  ],\n",
       "        [  980.  ,   962.  ,   982.  ,   915.  ,   958.  ,  1005.  ]],\n",
       "\n",
       "       [[    4.01,     4.19,     3.15,     3.24,     3.54,     3.77],\n",
       "        [   28.  ,    35.  ,    31.  ,    42.  ,    29.  ,    32.  ],\n",
       "        [   87.  ,    72.  ,    56.  ,    97.  ,    92.  ,    94.  ],\n",
       "        [  102.  ,    91.  ,    74.  ,   113.  ,   118.  ,   115.  ],\n",
       "        [   19.  ,    13.  ,    18.  ,     9.  ,    17.  ,     9.  ],\n",
       "        [  987.  ,   927.  ,   860.  ,   816.  ,   984.  ,   914.  ]]])\n",
       "Coordinates:\n",
       "  * team     (team) <U6 u'\\u30aa\\u30ea\\u30c3\\u30af\\u30b9' ...\n",
       "  * result   (result) <U3 u'era' u'sv' u'hld' u'hp' u'cg' u'so'\n",
       "  * year     (year) int64 2009 2010 2011 2012 2013 2014"
      ]
     },
     "execution_count": 45,
     "metadata": {},
     "output_type": "execute_result"
    }
   ],
   "source": [
    "da_p3 = xray.DataArray(data_p3, coords=[team, result_p, year], dims=['team', 'result', 'year'])\n",
    "da_p3"
   ]
  },
  {
   "cell_type": "markdown",
   "metadata": {},
   "source": [
    "### Dataset"
   ]
  },
  {
   "cell_type": "code",
   "execution_count": 46,
   "metadata": {
    "collapsed": false
   },
   "outputs": [
    {
     "data": {
      "text/plain": [
       "<xray.Dataset>\n",
       "Dimensions:    (result: 18, team: 6, year: 6)\n",
       "Coordinates:\n",
       "  * team       (team) <U6 u'\\u30aa\\u30ea\\u30c3\\u30af\\u30b9' ...\n",
       "  * result     (result) object u'2b' u'3b' u'ba' u'cg' u'draw' u'era' u'gb' ...\n",
       "  * year       (year) int64 2009 2010 2011 2012 2013 2014\n",
       "Data variables:\n",
       "    standings  (team, result, year) float64 nan nan nan nan nan nan nan nan ...\n",
       "    pitching   (team, result, year) float64 nan nan nan nan nan nan nan nan ...\n",
       "    batting    (team, result, year) float64 257.0 251.0 186.0 199.0 216.0 ..."
      ]
     },
     "execution_count": 46,
     "metadata": {},
     "output_type": "execute_result"
    }
   ],
   "source": [
    "ds = xray.Dataset({'standings': da3, 'batting': da_b3, 'pitching': da_p3})\n",
    "ds"
   ]
  },
  {
   "cell_type": "code",
   "execution_count": 47,
   "metadata": {
    "collapsed": false,
    "scrolled": true
   },
   "outputs": [
    {
     "data": {
      "text/plain": [
       "<xray.Dataset>\n",
       "Dimensions:    (result: 18, year: 6)\n",
       "Coordinates:\n",
       "    team       <U6 u'\\u697d\\u5929'\n",
       "  * result     (result) object u'2b' u'3b' u'ba' u'cg' u'draw' u'era' u'gb' ...\n",
       "  * year       (year) int64 2009 2010 2011 2012 2013 2014\n",
       "Data variables:\n",
       "    standings  (result, year) float64 nan nan nan nan nan nan nan nan nan ...\n",
       "    pitching   (result, year) float64 nan nan nan nan nan nan nan nan nan ...\n",
       "    batting    (result, year) float64 233.0 233.0 175.0 175.0 208.0 215.0 ..."
      ]
     },
     "execution_count": 47,
     "metadata": {},
     "output_type": "execute_result"
    }
   ],
   "source": [
    "ds.sel(team=u'楽天')"
   ]
  },
  {
   "cell_type": "code",
   "execution_count": 48,
   "metadata": {
    "collapsed": false
   },
   "outputs": [
    {
     "data": {
      "text/plain": [
       "<xray.Dataset>\n",
       "Dimensions:    (year: 6)\n",
       "Coordinates:\n",
       "    team       <U6 u'\\u30ed\\u30c3\\u30c6'\n",
       "    result     object u'2b'\n",
       "  * year       (year) int64 2009 2010 2011 2012 2013 2014\n",
       "Data variables:\n",
       "    standings  (year) float64 nan nan nan nan nan nan\n",
       "    pitching   (year) float64 nan nan nan nan nan nan\n",
       "    batting    (year) float64 245.0 244.0 178.0 208.0 206.0 260.0"
      ]
     },
     "execution_count": 48,
     "metadata": {},
     "output_type": "execute_result"
    }
   ],
   "source": [
    "ds.sel(team=u'ロッテ', result='2b')"
   ]
  },
  {
   "cell_type": "code",
   "execution_count": 49,
   "metadata": {
    "collapsed": false
   },
   "outputs": [
    {
     "data": {
      "text/plain": [
       "<xray.Dataset>\n",
       "Dimensions:    (result: 2, year: 6)\n",
       "Coordinates:\n",
       "    team       <U6 u'\\u30ed\\u30c3\\u30c6'\n",
       "  * result     (result) object u'hr' u'so'\n",
       "  * year       (year) int64 2009 2010 2011 2012 2013 2014\n",
       "Data variables:\n",
       "    standings  (result, year) float64 nan nan nan nan nan nan nan nan nan ...\n",
       "    pitching   (result, year) float64 nan nan nan nan nan nan 976.0 989.0 ...\n",
       "    batting    (result, year) float64 135.0 126.0 46.0 64.0 91.0 96.0 nan ..."
      ]
     },
     "execution_count": 49,
     "metadata": {},
     "output_type": "execute_result"
    }
   ],
   "source": [
    "ds.sel(team=u'ロッテ', result=['hr', 'so'])"
   ]
  },
  {
   "cell_type": "code",
   "execution_count": 50,
   "metadata": {
    "collapsed": false,
    "scrolled": true
   },
   "outputs": [
    {
     "data": {
      "text/html": [
       "<div>\n",
       "<table border=\"1\" class=\"dataframe\">\n",
       "  <thead>\n",
       "    <tr style=\"text-align: right;\">\n",
       "      <th></th>\n",
       "      <th></th>\n",
       "      <th></th>\n",
       "      <th>standings</th>\n",
       "      <th>pitching</th>\n",
       "      <th>batting</th>\n",
       "    </tr>\n",
       "    <tr>\n",
       "      <th>result</th>\n",
       "      <th>team</th>\n",
       "      <th>year</th>\n",
       "      <th></th>\n",
       "      <th></th>\n",
       "      <th></th>\n",
       "    </tr>\n",
       "  </thead>\n",
       "  <tbody>\n",
       "    <tr>\n",
       "      <th rowspan=\"30\" valign=\"top\">2b</th>\n",
       "      <th rowspan=\"6\" valign=\"top\">オリックス</th>\n",
       "      <th>2009</th>\n",
       "      <td>NaN</td>\n",
       "      <td>NaN</td>\n",
       "      <td>257</td>\n",
       "    </tr>\n",
       "    <tr>\n",
       "      <th>2010</th>\n",
       "      <td>NaN</td>\n",
       "      <td>NaN</td>\n",
       "      <td>251</td>\n",
       "    </tr>\n",
       "    <tr>\n",
       "      <th>2011</th>\n",
       "      <td>NaN</td>\n",
       "      <td>NaN</td>\n",
       "      <td>186</td>\n",
       "    </tr>\n",
       "    <tr>\n",
       "      <th>2012</th>\n",
       "      <td>NaN</td>\n",
       "      <td>NaN</td>\n",
       "      <td>199</td>\n",
       "    </tr>\n",
       "    <tr>\n",
       "      <th>2013</th>\n",
       "      <td>NaN</td>\n",
       "      <td>NaN</td>\n",
       "      <td>216</td>\n",
       "    </tr>\n",
       "    <tr>\n",
       "      <th>2014</th>\n",
       "      <td>NaN</td>\n",
       "      <td>NaN</td>\n",
       "      <td>211</td>\n",
       "    </tr>\n",
       "    <tr>\n",
       "      <th rowspan=\"6\" valign=\"top\">ソフトバンク</th>\n",
       "      <th>2009</th>\n",
       "      <td>NaN</td>\n",
       "      <td>NaN</td>\n",
       "      <td>239</td>\n",
       "    </tr>\n",
       "    <tr>\n",
       "      <th>2010</th>\n",
       "      <td>NaN</td>\n",
       "      <td>NaN</td>\n",
       "      <td>222</td>\n",
       "    </tr>\n",
       "    <tr>\n",
       "      <th>2011</th>\n",
       "      <td>NaN</td>\n",
       "      <td>NaN</td>\n",
       "      <td>216</td>\n",
       "    </tr>\n",
       "    <tr>\n",
       "      <th>2012</th>\n",
       "      <td>NaN</td>\n",
       "      <td>NaN</td>\n",
       "      <td>185</td>\n",
       "    </tr>\n",
       "    <tr>\n",
       "      <th>2013</th>\n",
       "      <td>NaN</td>\n",
       "      <td>NaN</td>\n",
       "      <td>225</td>\n",
       "    </tr>\n",
       "    <tr>\n",
       "      <th>2014</th>\n",
       "      <td>NaN</td>\n",
       "      <td>NaN</td>\n",
       "      <td>227</td>\n",
       "    </tr>\n",
       "    <tr>\n",
       "      <th rowspan=\"6\" valign=\"top\">ロッテ</th>\n",
       "      <th>2009</th>\n",
       "      <td>NaN</td>\n",
       "      <td>NaN</td>\n",
       "      <td>245</td>\n",
       "    </tr>\n",
       "    <tr>\n",
       "      <th>2010</th>\n",
       "      <td>NaN</td>\n",
       "      <td>NaN</td>\n",
       "      <td>244</td>\n",
       "    </tr>\n",
       "    <tr>\n",
       "      <th>2011</th>\n",
       "      <td>NaN</td>\n",
       "      <td>NaN</td>\n",
       "      <td>178</td>\n",
       "    </tr>\n",
       "    <tr>\n",
       "      <th>2012</th>\n",
       "      <td>NaN</td>\n",
       "      <td>NaN</td>\n",
       "      <td>208</td>\n",
       "    </tr>\n",
       "    <tr>\n",
       "      <th>2013</th>\n",
       "      <td>NaN</td>\n",
       "      <td>NaN</td>\n",
       "      <td>206</td>\n",
       "    </tr>\n",
       "    <tr>\n",
       "      <th>2014</th>\n",
       "      <td>NaN</td>\n",
       "      <td>NaN</td>\n",
       "      <td>260</td>\n",
       "    </tr>\n",
       "    <tr>\n",
       "      <th rowspan=\"6\" valign=\"top\">日本ハム</th>\n",
       "      <th>2009</th>\n",
       "      <td>NaN</td>\n",
       "      <td>NaN</td>\n",
       "      <td>290</td>\n",
       "    </tr>\n",
       "    <tr>\n",
       "      <th>2010</th>\n",
       "      <td>NaN</td>\n",
       "      <td>NaN</td>\n",
       "      <td>229</td>\n",
       "    </tr>\n",
       "    <tr>\n",
       "      <th>2011</th>\n",
       "      <td>NaN</td>\n",
       "      <td>NaN</td>\n",
       "      <td>202</td>\n",
       "    </tr>\n",
       "    <tr>\n",
       "      <th>2012</th>\n",
       "      <td>NaN</td>\n",
       "      <td>NaN</td>\n",
       "      <td>195</td>\n",
       "    </tr>\n",
       "    <tr>\n",
       "      <th>2013</th>\n",
       "      <td>NaN</td>\n",
       "      <td>NaN</td>\n",
       "      <td>200</td>\n",
       "    </tr>\n",
       "    <tr>\n",
       "      <th>2014</th>\n",
       "      <td>NaN</td>\n",
       "      <td>NaN</td>\n",
       "      <td>188</td>\n",
       "    </tr>\n",
       "    <tr>\n",
       "      <th rowspan=\"6\" valign=\"top\">楽天</th>\n",
       "      <th>2009</th>\n",
       "      <td>NaN</td>\n",
       "      <td>NaN</td>\n",
       "      <td>233</td>\n",
       "    </tr>\n",
       "    <tr>\n",
       "      <th>2010</th>\n",
       "      <td>NaN</td>\n",
       "      <td>NaN</td>\n",
       "      <td>233</td>\n",
       "    </tr>\n",
       "    <tr>\n",
       "      <th>2011</th>\n",
       "      <td>NaN</td>\n",
       "      <td>NaN</td>\n",
       "      <td>175</td>\n",
       "    </tr>\n",
       "    <tr>\n",
       "      <th>2012</th>\n",
       "      <td>NaN</td>\n",
       "      <td>NaN</td>\n",
       "      <td>175</td>\n",
       "    </tr>\n",
       "    <tr>\n",
       "      <th>2013</th>\n",
       "      <td>NaN</td>\n",
       "      <td>NaN</td>\n",
       "      <td>208</td>\n",
       "    </tr>\n",
       "    <tr>\n",
       "      <th>2014</th>\n",
       "      <td>NaN</td>\n",
       "      <td>NaN</td>\n",
       "      <td>215</td>\n",
       "    </tr>\n",
       "    <tr>\n",
       "      <th>...</th>\n",
       "      <th>...</th>\n",
       "      <th>...</th>\n",
       "      <td>...</td>\n",
       "      <td>...</td>\n",
       "      <td>...</td>\n",
       "    </tr>\n",
       "    <tr>\n",
       "      <th rowspan=\"30\" valign=\"top\">w-l%</th>\n",
       "      <th rowspan=\"6\" valign=\"top\">ソフトバンク</th>\n",
       "      <th>2009</th>\n",
       "      <td>0.532</td>\n",
       "      <td>NaN</td>\n",
       "      <td>NaN</td>\n",
       "    </tr>\n",
       "    <tr>\n",
       "      <th>2010</th>\n",
       "      <td>0.547</td>\n",
       "      <td>NaN</td>\n",
       "      <td>NaN</td>\n",
       "    </tr>\n",
       "    <tr>\n",
       "      <th>2011</th>\n",
       "      <td>0.657</td>\n",
       "      <td>NaN</td>\n",
       "      <td>NaN</td>\n",
       "    </tr>\n",
       "    <tr>\n",
       "      <th>2012</th>\n",
       "      <td>0.508</td>\n",
       "      <td>NaN</td>\n",
       "      <td>NaN</td>\n",
       "    </tr>\n",
       "    <tr>\n",
       "      <th>2013</th>\n",
       "      <td>0.514</td>\n",
       "      <td>NaN</td>\n",
       "      <td>NaN</td>\n",
       "    </tr>\n",
       "    <tr>\n",
       "      <th>2014</th>\n",
       "      <td>0.565</td>\n",
       "      <td>NaN</td>\n",
       "      <td>NaN</td>\n",
       "    </tr>\n",
       "    <tr>\n",
       "      <th rowspan=\"6\" valign=\"top\">ロッテ</th>\n",
       "      <th>2009</th>\n",
       "      <td>0.446</td>\n",
       "      <td>NaN</td>\n",
       "      <td>NaN</td>\n",
       "    </tr>\n",
       "    <tr>\n",
       "      <th>2010</th>\n",
       "      <td>0.528</td>\n",
       "      <td>NaN</td>\n",
       "      <td>NaN</td>\n",
       "    </tr>\n",
       "    <tr>\n",
       "      <th>2011</th>\n",
       "      <td>0.406</td>\n",
       "      <td>NaN</td>\n",
       "      <td>NaN</td>\n",
       "    </tr>\n",
       "    <tr>\n",
       "      <th>2012</th>\n",
       "      <td>0.481</td>\n",
       "      <td>NaN</td>\n",
       "      <td>NaN</td>\n",
       "    </tr>\n",
       "    <tr>\n",
       "      <th>2013</th>\n",
       "      <td>0.521</td>\n",
       "      <td>NaN</td>\n",
       "      <td>NaN</td>\n",
       "    </tr>\n",
       "    <tr>\n",
       "      <th>2014</th>\n",
       "      <td>0.465</td>\n",
       "      <td>NaN</td>\n",
       "      <td>NaN</td>\n",
       "    </tr>\n",
       "    <tr>\n",
       "      <th rowspan=\"6\" valign=\"top\">日本ハム</th>\n",
       "      <th>2009</th>\n",
       "      <td>0.577</td>\n",
       "      <td>NaN</td>\n",
       "      <td>NaN</td>\n",
       "    </tr>\n",
       "    <tr>\n",
       "      <th>2010</th>\n",
       "      <td>0.525</td>\n",
       "      <td>NaN</td>\n",
       "      <td>NaN</td>\n",
       "    </tr>\n",
       "    <tr>\n",
       "      <th>2011</th>\n",
       "      <td>0.526</td>\n",
       "      <td>NaN</td>\n",
       "      <td>NaN</td>\n",
       "    </tr>\n",
       "    <tr>\n",
       "      <th>2012</th>\n",
       "      <td>0.556</td>\n",
       "      <td>NaN</td>\n",
       "      <td>NaN</td>\n",
       "    </tr>\n",
       "    <tr>\n",
       "      <th>2013</th>\n",
       "      <td>0.451</td>\n",
       "      <td>NaN</td>\n",
       "      <td>NaN</td>\n",
       "    </tr>\n",
       "    <tr>\n",
       "      <th>2014</th>\n",
       "      <td>0.518</td>\n",
       "      <td>NaN</td>\n",
       "      <td>NaN</td>\n",
       "    </tr>\n",
       "    <tr>\n",
       "      <th rowspan=\"6\" valign=\"top\">楽天</th>\n",
       "      <th>2009</th>\n",
       "      <td>0.538</td>\n",
       "      <td>NaN</td>\n",
       "      <td>NaN</td>\n",
       "    </tr>\n",
       "    <tr>\n",
       "      <th>2010</th>\n",
       "      <td>0.440</td>\n",
       "      <td>NaN</td>\n",
       "      <td>NaN</td>\n",
       "    </tr>\n",
       "    <tr>\n",
       "      <th>2011</th>\n",
       "      <td>0.482</td>\n",
       "      <td>NaN</td>\n",
       "      <td>NaN</td>\n",
       "    </tr>\n",
       "    <tr>\n",
       "      <th>2012</th>\n",
       "      <td>0.500</td>\n",
       "      <td>NaN</td>\n",
       "      <td>NaN</td>\n",
       "    </tr>\n",
       "    <tr>\n",
       "      <th>2013</th>\n",
       "      <td>0.582</td>\n",
       "      <td>NaN</td>\n",
       "      <td>NaN</td>\n",
       "    </tr>\n",
       "    <tr>\n",
       "      <th>2014</th>\n",
       "      <td>0.444</td>\n",
       "      <td>NaN</td>\n",
       "      <td>NaN</td>\n",
       "    </tr>\n",
       "    <tr>\n",
       "      <th rowspan=\"6\" valign=\"top\">西武</th>\n",
       "      <th>2009</th>\n",
       "      <td>0.500</td>\n",
       "      <td>NaN</td>\n",
       "      <td>NaN</td>\n",
       "    </tr>\n",
       "    <tr>\n",
       "      <th>2010</th>\n",
       "      <td>0.545</td>\n",
       "      <td>NaN</td>\n",
       "      <td>NaN</td>\n",
       "    </tr>\n",
       "    <tr>\n",
       "      <th>2011</th>\n",
       "      <td>0.504</td>\n",
       "      <td>NaN</td>\n",
       "      <td>NaN</td>\n",
       "    </tr>\n",
       "    <tr>\n",
       "      <th>2012</th>\n",
       "      <td>0.533</td>\n",
       "      <td>NaN</td>\n",
       "      <td>NaN</td>\n",
       "    </tr>\n",
       "    <tr>\n",
       "      <th>2013</th>\n",
       "      <td>0.529</td>\n",
       "      <td>NaN</td>\n",
       "      <td>NaN</td>\n",
       "    </tr>\n",
       "    <tr>\n",
       "      <th>2014</th>\n",
       "      <td>0.450</td>\n",
       "      <td>NaN</td>\n",
       "      <td>NaN</td>\n",
       "    </tr>\n",
       "  </tbody>\n",
       "</table>\n",
       "<p>648 rows × 3 columns</p>\n",
       "</div>"
      ],
      "text/plain": [
       "                    standings  pitching  batting\n",
       "result team   year                              \n",
       "2b     オリックス  2009        NaN       NaN      257\n",
       "              2010        NaN       NaN      251\n",
       "              2011        NaN       NaN      186\n",
       "              2012        NaN       NaN      199\n",
       "              2013        NaN       NaN      216\n",
       "              2014        NaN       NaN      211\n",
       "       ソフトバンク 2009        NaN       NaN      239\n",
       "              2010        NaN       NaN      222\n",
       "              2011        NaN       NaN      216\n",
       "              2012        NaN       NaN      185\n",
       "              2013        NaN       NaN      225\n",
       "              2014        NaN       NaN      227\n",
       "       ロッテ    2009        NaN       NaN      245\n",
       "              2010        NaN       NaN      244\n",
       "              2011        NaN       NaN      178\n",
       "              2012        NaN       NaN      208\n",
       "              2013        NaN       NaN      206\n",
       "              2014        NaN       NaN      260\n",
       "       日本ハム   2009        NaN       NaN      290\n",
       "              2010        NaN       NaN      229\n",
       "              2011        NaN       NaN      202\n",
       "              2012        NaN       NaN      195\n",
       "              2013        NaN       NaN      200\n",
       "              2014        NaN       NaN      188\n",
       "       楽天     2009        NaN       NaN      233\n",
       "              2010        NaN       NaN      233\n",
       "              2011        NaN       NaN      175\n",
       "              2012        NaN       NaN      175\n",
       "              2013        NaN       NaN      208\n",
       "              2014        NaN       NaN      215\n",
       "...                       ...       ...      ...\n",
       "w-l%   ソフトバンク 2009      0.532       NaN      NaN\n",
       "              2010      0.547       NaN      NaN\n",
       "              2011      0.657       NaN      NaN\n",
       "              2012      0.508       NaN      NaN\n",
       "              2013      0.514       NaN      NaN\n",
       "              2014      0.565       NaN      NaN\n",
       "       ロッテ    2009      0.446       NaN      NaN\n",
       "              2010      0.528       NaN      NaN\n",
       "              2011      0.406       NaN      NaN\n",
       "              2012      0.481       NaN      NaN\n",
       "              2013      0.521       NaN      NaN\n",
       "              2014      0.465       NaN      NaN\n",
       "       日本ハム   2009      0.577       NaN      NaN\n",
       "              2010      0.525       NaN      NaN\n",
       "              2011      0.526       NaN      NaN\n",
       "              2012      0.556       NaN      NaN\n",
       "              2013      0.451       NaN      NaN\n",
       "              2014      0.518       NaN      NaN\n",
       "       楽天     2009      0.538       NaN      NaN\n",
       "              2010      0.440       NaN      NaN\n",
       "              2011      0.482       NaN      NaN\n",
       "              2012      0.500       NaN      NaN\n",
       "              2013      0.582       NaN      NaN\n",
       "              2014      0.444       NaN      NaN\n",
       "       西武     2009      0.500       NaN      NaN\n",
       "              2010      0.545       NaN      NaN\n",
       "              2011      0.504       NaN      NaN\n",
       "              2012      0.533       NaN      NaN\n",
       "              2013      0.529       NaN      NaN\n",
       "              2014      0.450       NaN      NaN\n",
       "\n",
       "[648 rows x 3 columns]"
      ]
     },
     "execution_count": 50,
     "metadata": {},
     "output_type": "execute_result"
    }
   ],
   "source": [
    "ds.to_dataframe()"
   ]
  },
  {
   "cell_type": "code",
   "execution_count": null,
   "metadata": {
    "collapsed": true
   },
   "outputs": [],
   "source": []
  }
 ],
 "metadata": {
  "kernelspec": {
   "display_name": "Python 2",
   "language": "python",
   "name": "python2"
  },
  "language_info": {
   "codemirror_mode": {
    "name": "ipython",
    "version": 2
   },
   "file_extension": ".py",
   "mimetype": "text/x-python",
   "name": "python",
   "nbconvert_exporter": "python",
   "pygments_lexer": "ipython2",
   "version": "2.7.10"
  }
 },
 "nbformat": 4,
 "nbformat_minor": 0
}
